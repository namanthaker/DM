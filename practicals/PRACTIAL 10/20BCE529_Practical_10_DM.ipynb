{
  "cells": [
    {
      "cell_type": "markdown",
      "source": [
        "Naman Thaker\n",
        "\n",
        "29BCE529\n",
        "\n",
        "DATA MINING\n",
        "\n",
        "PRACTICAL 10 NAIVE BAYES"
      ],
      "metadata": {
        "id": "dXZCHwTZ_vWA"
      }
    },
    {
      "cell_type": "code",
      "execution_count": null,
      "metadata": {
        "id": "0GFwLfjZ_Qvx"
      },
      "outputs": [],
      "source": [
        "data = [\n",
        "    [[\"Chinese\", \"Beijing\", \"Chinese\"], True],\n",
        "    [[\"Chinese\", \"Chinese\", \"Shanghai\"], True],\n",
        "    [[\"Chinese\", \"Macao\"], True],\n",
        "    [[\"Tokyo\", \"Japan\", \"Chinese\"], False],\n",
        "]\n",
        "\n",
        "test_document = [\"Chinese\", \"Chinese\", \"Chinese\", \"Tokyo\", \"Japan\"]\n"
      ]
    },
    {
      "cell_type": "code",
      "execution_count": null,
      "metadata": {
        "id": "vyLp0zYg_Qv4",
        "outputId": "1d704405-9ca9-4f4c-b6bb-c3bb6c873907"
      },
      "outputs": [
        {
          "name": "stdout",
          "output_type": "stream",
          "text": [
            "['Beijing', 'Chinese', 'Japan', 'Macao', 'Shanghai', 'Tokyo']\n",
            "['Japan', 'Tokyo', 'Chinese']\n",
            "P(c): 0.75 and P(c'): 0.25\n"
          ]
        }
      ],
      "source": [
        "data_unique_words = []\n",
        "priors_count = 0\n",
        "\n",
        "for i in data:\n",
        "    if i[1]:\n",
        "        priors_count += 1\n",
        "    for q in i[0]:\n",
        "        if q not in data_unique_words:\n",
        "            data_unique_words.append(q)\n",
        "\n",
        "data_unique_words = sorted(data_unique_words)\n",
        "print(data_unique_words)\n",
        "\n",
        "test_document_unique = list(set(test_document))\n",
        "print(test_document_unique)\n",
        "\n",
        "p_c = priors_count / len(data)\n",
        "p_c_bar = (len(data) - priors_count) / len(data)\n",
        "\n",
        "print(f\"P(c): {p_c} and P(c'): {p_c_bar}\")\n"
      ]
    },
    {
      "cell_type": "code",
      "execution_count": null,
      "metadata": {
        "id": "9_ltkRbm_Qv9",
        "outputId": "d6fd454b-4e7e-4f86-a602-25b459baf6b6"
      },
      "outputs": [
        {
          "name": "stdout",
          "output_type": "stream",
          "text": [
            "P(Japan)|c: 0.07142857142857142\n",
            "P(Tokyo)|c: 0.07142857142857142\n",
            "P(Chinese)|c: 0.42857142857142855\n"
          ]
        }
      ],
      "source": [
        "p_test_c = []\n",
        "for i in test_document_unique:\n",
        "    word_count = 0\n",
        "    total_words = 0\n",
        "    for j in data:\n",
        "        if j[1]:\n",
        "            word_count += j[0].count(i)\n",
        "            total_words += len(j[0])\n",
        "\n",
        "    p_i_c = (word_count + 1) / (total_words + len(data_unique_words))\n",
        "    print(f\"P({i})|c: {p_i_c}\")\n",
        "    p_test_c.append(p_i_c)"
      ]
    },
    {
      "cell_type": "code",
      "execution_count": null,
      "metadata": {
        "id": "OQOxcMsC_Qv-",
        "outputId": "d8f7690a-109e-465a-b5e8-3a08ee9cf6a1"
      },
      "outputs": [
        {
          "name": "stdout",
          "output_type": "stream",
          "text": [
            "P(Japan)|c': 0.2222222222222222\n",
            "P(Tokyo)|c': 0.2222222222222222\n",
            "P(Chinese)|c': 0.2222222222222222\n"
          ]
        }
      ],
      "source": [
        "p_test_c_bar = []\n",
        "for i in test_document_unique:\n",
        "    word_count = 0\n",
        "    total_words = 0\n",
        "    for j in data:\n",
        "        if not j[1]:\n",
        "            word_count += j[0].count(i)\n",
        "            total_words += len(j[0])\n",
        "\n",
        "    p_i_c_bar = (word_count + 1) / (total_words + len(data_unique_words))\n",
        "    print(f\"P({i})|c': {p_i_c_bar}\")\n",
        "    p_test_c_bar.append(p_i_c_bar)"
      ]
    },
    {
      "cell_type": "code",
      "execution_count": null,
      "metadata": {
        "id": "y-BhdrcM_Qv_",
        "outputId": "30623bb4-24c6-4e0f-c727-da0f20e8fa14"
      },
      "outputs": [
        {
          "name": "stdout",
          "output_type": "stream",
          "text": [
            "P(c|test_document): 0.00030121377997263036\n"
          ]
        }
      ],
      "source": [
        "p_c_test = 1\n",
        "for i in test_document:\n",
        "    index = test_document_unique.index(i)\n",
        "    p_c_test *= p_test_c[index]\n",
        "\n",
        "p_c_test *= p_c\n",
        "\n",
        "print(f\"P(c|test_document): {p_c_test}\")"
      ]
    },
    {
      "cell_type": "code",
      "execution_count": null,
      "metadata": {
        "id": "WEfF2f_s_QwA",
        "outputId": "c3736fea-a74f-4fb1-d028-9e90fabcda68"
      },
      "outputs": [
        {
          "name": "stdout",
          "output_type": "stream",
          "text": [
            "P(c'|test_document): 0.00013548070246744226\n"
          ]
        }
      ],
      "source": [
        "p_c_bar_test = 1\n",
        "for i in test_document:\n",
        "    index = test_document_unique.index(i)\n",
        "    p_c_bar_test *= p_test_c_bar[index]\n",
        "\n",
        "p_c_bar_test *= p_c_bar\n",
        "\n",
        "print(f\"P(c'|test_document): {p_c_bar_test}\")"
      ]
    }
  ],
  "metadata": {
    "interpreter": {
      "hash": "9ebda5539aea11a99b263636c55d3fa16078281d4358be81d14e9f778e963a27"
    },
    "kernelspec": {
      "display_name": "Python 3.10.4 64-bit",
      "language": "python",
      "name": "python3"
    },
    "language_info": {
      "codemirror_mode": {
        "name": "ipython",
        "version": 3
      },
      "file_extension": ".py",
      "mimetype": "text/x-python",
      "name": "python",
      "nbconvert_exporter": "python",
      "pygments_lexer": "ipython3",
      "version": "3.10.4"
    },
    "orig_nbformat": 4,
    "colab": {
      "name": "Practical_10.ipynb",
      "provenance": []
    }
  },
  "nbformat": 4,
  "nbformat_minor": 0
}