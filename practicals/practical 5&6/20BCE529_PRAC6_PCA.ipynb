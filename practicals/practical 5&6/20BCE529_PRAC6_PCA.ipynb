{
  "cells": [
    {
      "cell_type": "markdown",
      "metadata": {
        "_cell_guid": "059fafc4-f8e9-cf07-c974-e2e5733f2654",
        "id": "RLEowsx4opOx"
      },
      "source": [
        "**I'll explain the steps involved in PCA with codes without implemeting scikit-learn and with using Scikit-Learn.**\n"
      ]
    },
    {
      "cell_type": "markdown",
      "metadata": {
        "_cell_guid": "68a2ac0c-44cf-5243-69ed-695b0c291cb7",
        "id": "VdEHzeWyopO8"
      },
      "source": [
        "# 1)First import all the necessary libraries"
      ]
    },
    {
      "cell_type": "code",
      "execution_count": 11,
      "metadata": {
        "_cell_guid": "bf4d3629-e60d-3eb9-aa4f-791e6585f85c",
        "id": "EXWGviAfopO9"
      },
      "outputs": [],
      "source": [
        "import numpy as np # linear algebra\n",
        "import pandas as pd # data processing, CSV file I/O (e.g. pd.read_csv)\n",
        "import matplotlib as mpl\n",
        "import matplotlib.pyplot as plt\n",
        "import seaborn as sns\n",
        "%matplotlib inline"
      ]
    },
    {
      "cell_type": "markdown",
      "metadata": {
        "_cell_guid": "a2d81588-52e3-b59f-064f-e917306a62d6",
        "id": "0Hd9ZYQhopO-"
      },
      "source": [
        "# 2)Loading the dataset\n",
        "To import the dataset we will use Pandas library.It is the best Python library to play with the dataset and has a lot of functionalities. "
      ]
    },
    {
      "cell_type": "code",
      "execution_count": 12,
      "metadata": {
        "_cell_guid": "21c4543f-1ae4-07b9-551d-a8f7ca521334",
        "id": "cU_n6Jv-opO_"
      },
      "outputs": [],
      "source": [
        "df = pd.read_csv('HR_comma_sep.csv')"
      ]
    },
    {
      "cell_type": "code",
      "execution_count": 13,
      "metadata": {
        "_cell_guid": "ae4e15c8-72f5-3036-3427-41735f9c8444",
        "colab": {
          "base_uri": "https://localhost:8080/"
        },
        "id": "toiC6WEuopO_",
        "outputId": "9a75d98e-fefb-4aff-cd8b-04571a9f8b1e"
      },
      "outputs": [
        {
          "output_type": "stream",
          "name": "stdout",
          "text": [
            "Columns names:\n",
            "['satisfaction_level', 'last_evaluation', 'number_project', 'average_montly_hours', 'time_spend_company', 'Work_accident', 'left', 'promotion_last_5years', 'sales', 'salary']\n"
          ]
        }
      ],
      "source": [
        "columns_names=df.columns.tolist()\n",
        "print(\"Columns names:\")\n",
        "print(columns_names)"
      ]
    },
    {
      "cell_type": "markdown",
      "metadata": {
        "_cell_guid": "0441865c-3c67-48b7-b9e6-e89bc3cc2d18",
        "id": "faujoOxiopPB"
      },
      "source": [
        "df.columns.tolist() fetches all the columns and then convert it into list type.This step is just to check out all the column names in our data.Columns are also called as features of our datasets."
      ]
    },
    {
      "cell_type": "code",
      "execution_count": 14,
      "metadata": {
        "_cell_guid": "e937f0f0-9de1-d057-22ce-0abdcee66766",
        "colab": {
          "base_uri": "https://localhost:8080/"
        },
        "id": "j_j0fcI4opPC",
        "outputId": "b11ef0da-04bb-4497-d0da-1ee6b62009b0"
      },
      "outputs": [
        {
          "output_type": "execute_result",
          "data": {
            "text/plain": [
              "(14999, 10)"
            ]
          },
          "metadata": {},
          "execution_count": 14
        }
      ],
      "source": [
        "df.shape"
      ]
    },
    {
      "cell_type": "code",
      "execution_count": 15,
      "metadata": {
        "_cell_guid": "8594669f-f6c0-2bcc-5766-ba49010cf452",
        "colab": {
          "base_uri": "https://localhost:8080/",
          "height": 270
        },
        "id": "QKntDNebopPD",
        "outputId": "bb2f1989-fd65-4eba-e150-7b7f81ccc622"
      },
      "outputs": [
        {
          "output_type": "execute_result",
          "data": {
            "text/plain": [
              "   satisfaction_level  last_evaluation  number_project  average_montly_hours  \\\n",
              "0                0.38             0.53               2                   157   \n",
              "1                0.80             0.86               5                   262   \n",
              "2                0.11             0.88               7                   272   \n",
              "3                0.72             0.87               5                   223   \n",
              "4                0.37             0.52               2                   159   \n",
              "\n",
              "   time_spend_company  Work_accident  left  promotion_last_5years  sales  \\\n",
              "0                   3              0     1                      0  sales   \n",
              "1                   6              0     1                      0  sales   \n",
              "2                   4              0     1                      0  sales   \n",
              "3                   5              0     1                      0  sales   \n",
              "4                   3              0     1                      0  sales   \n",
              "\n",
              "   salary  \n",
              "0     low  \n",
              "1  medium  \n",
              "2  medium  \n",
              "3     low  \n",
              "4     low  "
            ],
            "text/html": [
              "\n",
              "  <div id=\"df-10e2ece4-5cc3-468d-9f8d-fe3c7a09c87a\">\n",
              "    <div class=\"colab-df-container\">\n",
              "      <div>\n",
              "<style scoped>\n",
              "    .dataframe tbody tr th:only-of-type {\n",
              "        vertical-align: middle;\n",
              "    }\n",
              "\n",
              "    .dataframe tbody tr th {\n",
              "        vertical-align: top;\n",
              "    }\n",
              "\n",
              "    .dataframe thead th {\n",
              "        text-align: right;\n",
              "    }\n",
              "</style>\n",
              "<table border=\"1\" class=\"dataframe\">\n",
              "  <thead>\n",
              "    <tr style=\"text-align: right;\">\n",
              "      <th></th>\n",
              "      <th>satisfaction_level</th>\n",
              "      <th>last_evaluation</th>\n",
              "      <th>number_project</th>\n",
              "      <th>average_montly_hours</th>\n",
              "      <th>time_spend_company</th>\n",
              "      <th>Work_accident</th>\n",
              "      <th>left</th>\n",
              "      <th>promotion_last_5years</th>\n",
              "      <th>sales</th>\n",
              "      <th>salary</th>\n",
              "    </tr>\n",
              "  </thead>\n",
              "  <tbody>\n",
              "    <tr>\n",
              "      <th>0</th>\n",
              "      <td>0.38</td>\n",
              "      <td>0.53</td>\n",
              "      <td>2</td>\n",
              "      <td>157</td>\n",
              "      <td>3</td>\n",
              "      <td>0</td>\n",
              "      <td>1</td>\n",
              "      <td>0</td>\n",
              "      <td>sales</td>\n",
              "      <td>low</td>\n",
              "    </tr>\n",
              "    <tr>\n",
              "      <th>1</th>\n",
              "      <td>0.80</td>\n",
              "      <td>0.86</td>\n",
              "      <td>5</td>\n",
              "      <td>262</td>\n",
              "      <td>6</td>\n",
              "      <td>0</td>\n",
              "      <td>1</td>\n",
              "      <td>0</td>\n",
              "      <td>sales</td>\n",
              "      <td>medium</td>\n",
              "    </tr>\n",
              "    <tr>\n",
              "      <th>2</th>\n",
              "      <td>0.11</td>\n",
              "      <td>0.88</td>\n",
              "      <td>7</td>\n",
              "      <td>272</td>\n",
              "      <td>4</td>\n",
              "      <td>0</td>\n",
              "      <td>1</td>\n",
              "      <td>0</td>\n",
              "      <td>sales</td>\n",
              "      <td>medium</td>\n",
              "    </tr>\n",
              "    <tr>\n",
              "      <th>3</th>\n",
              "      <td>0.72</td>\n",
              "      <td>0.87</td>\n",
              "      <td>5</td>\n",
              "      <td>223</td>\n",
              "      <td>5</td>\n",
              "      <td>0</td>\n",
              "      <td>1</td>\n",
              "      <td>0</td>\n",
              "      <td>sales</td>\n",
              "      <td>low</td>\n",
              "    </tr>\n",
              "    <tr>\n",
              "      <th>4</th>\n",
              "      <td>0.37</td>\n",
              "      <td>0.52</td>\n",
              "      <td>2</td>\n",
              "      <td>159</td>\n",
              "      <td>3</td>\n",
              "      <td>0</td>\n",
              "      <td>1</td>\n",
              "      <td>0</td>\n",
              "      <td>sales</td>\n",
              "      <td>low</td>\n",
              "    </tr>\n",
              "  </tbody>\n",
              "</table>\n",
              "</div>\n",
              "      <button class=\"colab-df-convert\" onclick=\"convertToInteractive('df-10e2ece4-5cc3-468d-9f8d-fe3c7a09c87a')\"\n",
              "              title=\"Convert this dataframe to an interactive table.\"\n",
              "              style=\"display:none;\">\n",
              "        \n",
              "  <svg xmlns=\"http://www.w3.org/2000/svg\" height=\"24px\"viewBox=\"0 0 24 24\"\n",
              "       width=\"24px\">\n",
              "    <path d=\"M0 0h24v24H0V0z\" fill=\"none\"/>\n",
              "    <path d=\"M18.56 5.44l.94 2.06.94-2.06 2.06-.94-2.06-.94-.94-2.06-.94 2.06-2.06.94zm-11 1L8.5 8.5l.94-2.06 2.06-.94-2.06-.94L8.5 2.5l-.94 2.06-2.06.94zm10 10l.94 2.06.94-2.06 2.06-.94-2.06-.94-.94-2.06-.94 2.06-2.06.94z\"/><path d=\"M17.41 7.96l-1.37-1.37c-.4-.4-.92-.59-1.43-.59-.52 0-1.04.2-1.43.59L10.3 9.45l-7.72 7.72c-.78.78-.78 2.05 0 2.83L4 21.41c.39.39.9.59 1.41.59.51 0 1.02-.2 1.41-.59l7.78-7.78 2.81-2.81c.8-.78.8-2.07 0-2.86zM5.41 20L4 18.59l7.72-7.72 1.47 1.35L5.41 20z\"/>\n",
              "  </svg>\n",
              "      </button>\n",
              "      \n",
              "  <style>\n",
              "    .colab-df-container {\n",
              "      display:flex;\n",
              "      flex-wrap:wrap;\n",
              "      gap: 12px;\n",
              "    }\n",
              "\n",
              "    .colab-df-convert {\n",
              "      background-color: #E8F0FE;\n",
              "      border: none;\n",
              "      border-radius: 50%;\n",
              "      cursor: pointer;\n",
              "      display: none;\n",
              "      fill: #1967D2;\n",
              "      height: 32px;\n",
              "      padding: 0 0 0 0;\n",
              "      width: 32px;\n",
              "    }\n",
              "\n",
              "    .colab-df-convert:hover {\n",
              "      background-color: #E2EBFA;\n",
              "      box-shadow: 0px 1px 2px rgba(60, 64, 67, 0.3), 0px 1px 3px 1px rgba(60, 64, 67, 0.15);\n",
              "      fill: #174EA6;\n",
              "    }\n",
              "\n",
              "    [theme=dark] .colab-df-convert {\n",
              "      background-color: #3B4455;\n",
              "      fill: #D2E3FC;\n",
              "    }\n",
              "\n",
              "    [theme=dark] .colab-df-convert:hover {\n",
              "      background-color: #434B5C;\n",
              "      box-shadow: 0px 1px 3px 1px rgba(0, 0, 0, 0.15);\n",
              "      filter: drop-shadow(0px 1px 2px rgba(0, 0, 0, 0.3));\n",
              "      fill: #FFFFFF;\n",
              "    }\n",
              "  </style>\n",
              "\n",
              "      <script>\n",
              "        const buttonEl =\n",
              "          document.querySelector('#df-10e2ece4-5cc3-468d-9f8d-fe3c7a09c87a button.colab-df-convert');\n",
              "        buttonEl.style.display =\n",
              "          google.colab.kernel.accessAllowed ? 'block' : 'none';\n",
              "\n",
              "        async function convertToInteractive(key) {\n",
              "          const element = document.querySelector('#df-10e2ece4-5cc3-468d-9f8d-fe3c7a09c87a');\n",
              "          const dataTable =\n",
              "            await google.colab.kernel.invokeFunction('convertToInteractive',\n",
              "                                                     [key], {});\n",
              "          if (!dataTable) return;\n",
              "\n",
              "          const docLinkHtml = 'Like what you see? Visit the ' +\n",
              "            '<a target=\"_blank\" href=https://colab.research.google.com/notebooks/data_table.ipynb>data table notebook</a>'\n",
              "            + ' to learn more about interactive tables.';\n",
              "          element.innerHTML = '';\n",
              "          dataTable['output_type'] = 'display_data';\n",
              "          await google.colab.output.renderOutput(dataTable, element);\n",
              "          const docLink = document.createElement('div');\n",
              "          docLink.innerHTML = docLinkHtml;\n",
              "          element.appendChild(docLink);\n",
              "        }\n",
              "      </script>\n",
              "    </div>\n",
              "  </div>\n",
              "  "
            ]
          },
          "metadata": {},
          "execution_count": 15
        }
      ],
      "source": [
        "df.head()"
      ]
    },
    {
      "cell_type": "markdown",
      "metadata": {
        "_cell_guid": "b1d97ee5-c932-e20b-4be1-8e18d66e6329",
        "id": "k2raeUw5opPD"
      },
      "source": [
        "df.head() displays first five rows of our datasets."
      ]
    },
    {
      "cell_type": "code",
      "execution_count": 16,
      "metadata": {
        "_cell_guid": "f4d53e62-c4ea-cb89-f694-e10bdc47490f",
        "colab": {
          "base_uri": "https://localhost:8080/",
          "height": 364
        },
        "id": "YdsIC6adopPE",
        "outputId": "f9694a15-f1a2-47d4-c98a-e382a77e5a00"
      },
      "outputs": [
        {
          "output_type": "execute_result",
          "data": {
            "text/plain": [
              "                       satisfaction_level  last_evaluation  number_project  \\\n",
              "satisfaction_level               1.000000         0.105021       -0.142970   \n",
              "last_evaluation                  0.105021         1.000000        0.349333   \n",
              "number_project                  -0.142970         0.349333        1.000000   \n",
              "average_montly_hours            -0.020048         0.339742        0.417211   \n",
              "time_spend_company              -0.100866         0.131591        0.196786   \n",
              "Work_accident                    0.058697        -0.007104       -0.004741   \n",
              "left                            -0.388375         0.006567        0.023787   \n",
              "promotion_last_5years            0.025605        -0.008684       -0.006064   \n",
              "\n",
              "                       average_montly_hours  time_spend_company  \\\n",
              "satisfaction_level                -0.020048           -0.100866   \n",
              "last_evaluation                    0.339742            0.131591   \n",
              "number_project                     0.417211            0.196786   \n",
              "average_montly_hours               1.000000            0.127755   \n",
              "time_spend_company                 0.127755            1.000000   \n",
              "Work_accident                     -0.010143            0.002120   \n",
              "left                               0.071287            0.144822   \n",
              "promotion_last_5years             -0.003544            0.067433   \n",
              "\n",
              "                       Work_accident      left  promotion_last_5years  \n",
              "satisfaction_level          0.058697 -0.388375               0.025605  \n",
              "last_evaluation            -0.007104  0.006567              -0.008684  \n",
              "number_project             -0.004741  0.023787              -0.006064  \n",
              "average_montly_hours       -0.010143  0.071287              -0.003544  \n",
              "time_spend_company          0.002120  0.144822               0.067433  \n",
              "Work_accident               1.000000 -0.154622               0.039245  \n",
              "left                       -0.154622  1.000000              -0.061788  \n",
              "promotion_last_5years       0.039245 -0.061788               1.000000  "
            ],
            "text/html": [
              "\n",
              "  <div id=\"df-e0e761f9-1fce-4a0b-ade1-529c3c63783f\">\n",
              "    <div class=\"colab-df-container\">\n",
              "      <div>\n",
              "<style scoped>\n",
              "    .dataframe tbody tr th:only-of-type {\n",
              "        vertical-align: middle;\n",
              "    }\n",
              "\n",
              "    .dataframe tbody tr th {\n",
              "        vertical-align: top;\n",
              "    }\n",
              "\n",
              "    .dataframe thead th {\n",
              "        text-align: right;\n",
              "    }\n",
              "</style>\n",
              "<table border=\"1\" class=\"dataframe\">\n",
              "  <thead>\n",
              "    <tr style=\"text-align: right;\">\n",
              "      <th></th>\n",
              "      <th>satisfaction_level</th>\n",
              "      <th>last_evaluation</th>\n",
              "      <th>number_project</th>\n",
              "      <th>average_montly_hours</th>\n",
              "      <th>time_spend_company</th>\n",
              "      <th>Work_accident</th>\n",
              "      <th>left</th>\n",
              "      <th>promotion_last_5years</th>\n",
              "    </tr>\n",
              "  </thead>\n",
              "  <tbody>\n",
              "    <tr>\n",
              "      <th>satisfaction_level</th>\n",
              "      <td>1.000000</td>\n",
              "      <td>0.105021</td>\n",
              "      <td>-0.142970</td>\n",
              "      <td>-0.020048</td>\n",
              "      <td>-0.100866</td>\n",
              "      <td>0.058697</td>\n",
              "      <td>-0.388375</td>\n",
              "      <td>0.025605</td>\n",
              "    </tr>\n",
              "    <tr>\n",
              "      <th>last_evaluation</th>\n",
              "      <td>0.105021</td>\n",
              "      <td>1.000000</td>\n",
              "      <td>0.349333</td>\n",
              "      <td>0.339742</td>\n",
              "      <td>0.131591</td>\n",
              "      <td>-0.007104</td>\n",
              "      <td>0.006567</td>\n",
              "      <td>-0.008684</td>\n",
              "    </tr>\n",
              "    <tr>\n",
              "      <th>number_project</th>\n",
              "      <td>-0.142970</td>\n",
              "      <td>0.349333</td>\n",
              "      <td>1.000000</td>\n",
              "      <td>0.417211</td>\n",
              "      <td>0.196786</td>\n",
              "      <td>-0.004741</td>\n",
              "      <td>0.023787</td>\n",
              "      <td>-0.006064</td>\n",
              "    </tr>\n",
              "    <tr>\n",
              "      <th>average_montly_hours</th>\n",
              "      <td>-0.020048</td>\n",
              "      <td>0.339742</td>\n",
              "      <td>0.417211</td>\n",
              "      <td>1.000000</td>\n",
              "      <td>0.127755</td>\n",
              "      <td>-0.010143</td>\n",
              "      <td>0.071287</td>\n",
              "      <td>-0.003544</td>\n",
              "    </tr>\n",
              "    <tr>\n",
              "      <th>time_spend_company</th>\n",
              "      <td>-0.100866</td>\n",
              "      <td>0.131591</td>\n",
              "      <td>0.196786</td>\n",
              "      <td>0.127755</td>\n",
              "      <td>1.000000</td>\n",
              "      <td>0.002120</td>\n",
              "      <td>0.144822</td>\n",
              "      <td>0.067433</td>\n",
              "    </tr>\n",
              "    <tr>\n",
              "      <th>Work_accident</th>\n",
              "      <td>0.058697</td>\n",
              "      <td>-0.007104</td>\n",
              "      <td>-0.004741</td>\n",
              "      <td>-0.010143</td>\n",
              "      <td>0.002120</td>\n",
              "      <td>1.000000</td>\n",
              "      <td>-0.154622</td>\n",
              "      <td>0.039245</td>\n",
              "    </tr>\n",
              "    <tr>\n",
              "      <th>left</th>\n",
              "      <td>-0.388375</td>\n",
              "      <td>0.006567</td>\n",
              "      <td>0.023787</td>\n",
              "      <td>0.071287</td>\n",
              "      <td>0.144822</td>\n",
              "      <td>-0.154622</td>\n",
              "      <td>1.000000</td>\n",
              "      <td>-0.061788</td>\n",
              "    </tr>\n",
              "    <tr>\n",
              "      <th>promotion_last_5years</th>\n",
              "      <td>0.025605</td>\n",
              "      <td>-0.008684</td>\n",
              "      <td>-0.006064</td>\n",
              "      <td>-0.003544</td>\n",
              "      <td>0.067433</td>\n",
              "      <td>0.039245</td>\n",
              "      <td>-0.061788</td>\n",
              "      <td>1.000000</td>\n",
              "    </tr>\n",
              "  </tbody>\n",
              "</table>\n",
              "</div>\n",
              "      <button class=\"colab-df-convert\" onclick=\"convertToInteractive('df-e0e761f9-1fce-4a0b-ade1-529c3c63783f')\"\n",
              "              title=\"Convert this dataframe to an interactive table.\"\n",
              "              style=\"display:none;\">\n",
              "        \n",
              "  <svg xmlns=\"http://www.w3.org/2000/svg\" height=\"24px\"viewBox=\"0 0 24 24\"\n",
              "       width=\"24px\">\n",
              "    <path d=\"M0 0h24v24H0V0z\" fill=\"none\"/>\n",
              "    <path d=\"M18.56 5.44l.94 2.06.94-2.06 2.06-.94-2.06-.94-.94-2.06-.94 2.06-2.06.94zm-11 1L8.5 8.5l.94-2.06 2.06-.94-2.06-.94L8.5 2.5l-.94 2.06-2.06.94zm10 10l.94 2.06.94-2.06 2.06-.94-2.06-.94-.94-2.06-.94 2.06-2.06.94z\"/><path d=\"M17.41 7.96l-1.37-1.37c-.4-.4-.92-.59-1.43-.59-.52 0-1.04.2-1.43.59L10.3 9.45l-7.72 7.72c-.78.78-.78 2.05 0 2.83L4 21.41c.39.39.9.59 1.41.59.51 0 1.02-.2 1.41-.59l7.78-7.78 2.81-2.81c.8-.78.8-2.07 0-2.86zM5.41 20L4 18.59l7.72-7.72 1.47 1.35L5.41 20z\"/>\n",
              "  </svg>\n",
              "      </button>\n",
              "      \n",
              "  <style>\n",
              "    .colab-df-container {\n",
              "      display:flex;\n",
              "      flex-wrap:wrap;\n",
              "      gap: 12px;\n",
              "    }\n",
              "\n",
              "    .colab-df-convert {\n",
              "      background-color: #E8F0FE;\n",
              "      border: none;\n",
              "      border-radius: 50%;\n",
              "      cursor: pointer;\n",
              "      display: none;\n",
              "      fill: #1967D2;\n",
              "      height: 32px;\n",
              "      padding: 0 0 0 0;\n",
              "      width: 32px;\n",
              "    }\n",
              "\n",
              "    .colab-df-convert:hover {\n",
              "      background-color: #E2EBFA;\n",
              "      box-shadow: 0px 1px 2px rgba(60, 64, 67, 0.3), 0px 1px 3px 1px rgba(60, 64, 67, 0.15);\n",
              "      fill: #174EA6;\n",
              "    }\n",
              "\n",
              "    [theme=dark] .colab-df-convert {\n",
              "      background-color: #3B4455;\n",
              "      fill: #D2E3FC;\n",
              "    }\n",
              "\n",
              "    [theme=dark] .colab-df-convert:hover {\n",
              "      background-color: #434B5C;\n",
              "      box-shadow: 0px 1px 3px 1px rgba(0, 0, 0, 0.15);\n",
              "      filter: drop-shadow(0px 1px 2px rgba(0, 0, 0, 0.3));\n",
              "      fill: #FFFFFF;\n",
              "    }\n",
              "  </style>\n",
              "\n",
              "      <script>\n",
              "        const buttonEl =\n",
              "          document.querySelector('#df-e0e761f9-1fce-4a0b-ade1-529c3c63783f button.colab-df-convert');\n",
              "        buttonEl.style.display =\n",
              "          google.colab.kernel.accessAllowed ? 'block' : 'none';\n",
              "\n",
              "        async function convertToInteractive(key) {\n",
              "          const element = document.querySelector('#df-e0e761f9-1fce-4a0b-ade1-529c3c63783f');\n",
              "          const dataTable =\n",
              "            await google.colab.kernel.invokeFunction('convertToInteractive',\n",
              "                                                     [key], {});\n",
              "          if (!dataTable) return;\n",
              "\n",
              "          const docLinkHtml = 'Like what you see? Visit the ' +\n",
              "            '<a target=\"_blank\" href=https://colab.research.google.com/notebooks/data_table.ipynb>data table notebook</a>'\n",
              "            + ' to learn more about interactive tables.';\n",
              "          element.innerHTML = '';\n",
              "          dataTable['output_type'] = 'display_data';\n",
              "          await google.colab.output.renderOutput(dataTable, element);\n",
              "          const docLink = document.createElement('div');\n",
              "          docLink.innerHTML = docLinkHtml;\n",
              "          element.appendChild(docLink);\n",
              "        }\n",
              "      </script>\n",
              "    </div>\n",
              "  </div>\n",
              "  "
            ]
          },
          "metadata": {},
          "execution_count": 16
        }
      ],
      "source": [
        "df.corr()"
      ]
    },
    {
      "cell_type": "markdown",
      "metadata": {
        "_cell_guid": "715ae8c7-3c10-ac7b-3d52-fc0c445753c8",
        "id": "KGImboI1opPF"
      },
      "source": [
        "**df.corr()** compute pairwise correlation of columns.Correlation shows how the two variables are related to each other.Positive values shows as one variable increases other variable increases as well. Negative values shows as one variable increases other variable decreases.Bigger the values,more strongly two varibles are correlated and viceversa.\n"
      ]
    },
    {
      "cell_type": "markdown",
      "metadata": {
        "_cell_guid": "ba14fe8d-3e77-d982-7776-a3e9cb67c039",
        "id": "o9R1puzSopPF"
      },
      "source": [
        "**Visualising correlation using Seaborn library**"
      ]
    },
    {
      "cell_type": "code",
      "execution_count": 17,
      "metadata": {
        "_cell_guid": "3e75c17d-9c10-a556-3d99-5f32e4f8b4fb",
        "colab": {
          "base_uri": "https://localhost:8080/",
          "height": 668
        },
        "id": "Nsn7pTMzopPG",
        "outputId": "61c71403-8312-4813-ebd9-ce8520bec095"
      },
      "outputs": [
        {
          "output_type": "execute_result",
          "data": {
            "text/plain": [
              "Text(0.5, 1.0, 'Correlation between different fearures')"
            ]
          },
          "metadata": {},
          "execution_count": 17
        },
        {
          "output_type": "display_data",
          "data": {
            "text/plain": [
              "<Figure size 720x720 with 2 Axes>"
            ],
            "image/png": "[encoded data removed]"
          },
          "metadata": {
            "needs_background": "light"
          }
        }
      ],
      "source": [
        "correlation = df.corr()\n",
        "plt.figure(figsize=(10,10))\n",
        "sns.heatmap(correlation, vmax=1, square=True,annot=True,cmap='cubehelix')\n",
        "\n",
        "plt.title('Correlation between different fearures')"
      ]
    },
    {
      "cell_type": "markdown",
      "metadata": {
        "_cell_guid": "c760c111-3856-7d3f-03e0-fd403461a591",
        "id": "HYV53KT7opPH"
      },
      "source": [
        "**Doing some visualisation before moving onto PCA**"
      ]
    },
    {
      "cell_type": "code",
      "execution_count": 18,
      "metadata": {
        "_cell_guid": "1412290a-29b9-9f62-6cad-fffbc07bf7fd",
        "colab": {
          "base_uri": "https://localhost:8080/"
        },
        "id": "IpBKR2-CopPH",
        "outputId": "2e61cda0-c98f-4183-ac29-8c40ba4ea502"
      },
      "outputs": [
        {
          "output_type": "execute_result",
          "data": {
            "text/plain": [
              "array(['sales', 'accounting', 'hr', 'technical', 'support', 'management',\n",
              "       'IT', 'product_mng', 'marketing', 'RandD'], dtype=object)"
            ]
          },
          "metadata": {},
          "execution_count": 18
        }
      ],
      "source": [
        "df['sales'].unique()"
      ]
    },
    {
      "cell_type": "markdown",
      "metadata": {
        "_cell_guid": "15f45340-7d73-58c4-16eb-85a91b236ab8",
        "id": "Kp1GNFmZopPI"
      },
      "source": [
        "Here we are printing all the unique values in **sales** columns"
      ]
    },
    {
      "cell_type": "code",
      "execution_count": 19,
      "metadata": {
        "_cell_guid": "0216658c-d279-d76c-e9b9-947daf866026",
        "colab": {
          "base_uri": "https://localhost:8080/",
          "height": 458
        },
        "id": "GzuYm7yOopPI",
        "outputId": "b0eb3529-2a14-4827-c1de-5d9fae8afeeb"
      },
      "outputs": [
        {
          "output_type": "execute_result",
          "data": {
            "text/plain": [
              "             satisfaction_level  last_evaluation  number_project  \\\n",
              "sales                                                              \n",
              "IT                       758.46           879.55            4683   \n",
              "RandD                    487.80           560.44            3033   \n",
              "accounting               446.51           550.49            2934   \n",
              "hr                       442.52           523.84            2701   \n",
              "management               391.45           456.12            2432   \n",
              "marketing                530.76           614.23            3164   \n",
              "product_mng              558.91           644.71            3434   \n",
              "sales                   2543.81          2938.23           15634   \n",
              "support                 1378.19          1611.81            8479   \n",
              "technical               1653.48          1961.39           10548   \n",
              "\n",
              "             average_montly_hours  time_spend_company  Work_accident  left  \\\n",
              "sales                                                                        \n",
              "IT                         248119                4256            164   273   \n",
              "RandD                      158030                2650            134   121   \n",
              "accounting                 154292                2702             96   204   \n",
              "hr                         146828                2480             89   215   \n",
              "management                 126787                2711            103    91   \n",
              "marketing                  171073                3063            138   203   \n",
              "product_mng                180369                3135            132   198   \n",
              "sales                      831773               14631            587  1014   \n",
              "support                    447490                7563            345   555   \n",
              "technical                  550793                9279            381   697   \n",
              "\n",
              "             promotion_last_5years  \n",
              "sales                               \n",
              "IT                               3  \n",
              "RandD                           27  \n",
              "accounting                      14  \n",
              "hr                              15  \n",
              "management                      69  \n",
              "marketing                       43  \n",
              "product_mng                      0  \n",
              "sales                          100  \n",
              "support                         20  \n",
              "technical                       28  "
            ],
            "text/html": [
              "\n",
              "  <div id=\"df-9ef17662-72bc-4b90-b8a6-3402e7920f7b\">\n",
              "    <div class=\"colab-df-container\">\n",
              "      <div>\n",
              "<style scoped>\n",
              "    .dataframe tbody tr th:only-of-type {\n",
              "        vertical-align: middle;\n",
              "    }\n",
              "\n",
              "    .dataframe tbody tr th {\n",
              "        vertical-align: top;\n",
              "    }\n",
              "\n",
              "    .dataframe thead th {\n",
              "        text-align: right;\n",
              "    }\n",
              "</style>\n",
              "<table border=\"1\" class=\"dataframe\">\n",
              "  <thead>\n",
              "    <tr style=\"text-align: right;\">\n",
              "      <th></th>\n",
              "      <th>satisfaction_level</th>\n",
              "      <th>last_evaluation</th>\n",
              "      <th>number_project</th>\n",
              "      <th>average_montly_hours</th>\n",
              "      <th>time_spend_company</th>\n",
              "      <th>Work_accident</th>\n",
              "      <th>left</th>\n",
              "      <th>promotion_last_5years</th>\n",
              "    </tr>\n",
              "    <tr>\n",
              "      <th>sales</th>\n",
              "      <th></th>\n",
              "      <th></th>\n",
              "      <th></th>\n",
              "      <th></th>\n",
              "      <th></th>\n",
              "      <th></th>\n",
              "      <th></th>\n",
              "      <th></th>\n",
              "    </tr>\n",
              "  </thead>\n",
              "  <tbody>\n",
              "    <tr>\n",
              "      <th>IT</th>\n",
              "      <td>758.46</td>\n",
              "      <td>879.55</td>\n",
              "      <td>4683</td>\n",
              "      <td>248119</td>\n",
              "      <td>4256</td>\n",
              "      <td>164</td>\n",
              "      <td>273</td>\n",
              "      <td>3</td>\n",
              "    </tr>\n",
              "    <tr>\n",
              "      <th>RandD</th>\n",
              "      <td>487.80</td>\n",
              "      <td>560.44</td>\n",
              "      <td>3033</td>\n",
              "      <td>158030</td>\n",
              "      <td>2650</td>\n",
              "      <td>134</td>\n",
              "      <td>121</td>\n",
              "      <td>27</td>\n",
              "    </tr>\n",
              "    <tr>\n",
              "      <th>accounting</th>\n",
              "      <td>446.51</td>\n",
              "      <td>550.49</td>\n",
              "      <td>2934</td>\n",
              "      <td>154292</td>\n",
              "      <td>2702</td>\n",
              "      <td>96</td>\n",
              "      <td>204</td>\n",
              "      <td>14</td>\n",
              "    </tr>\n",
              "    <tr>\n",
              "      <th>hr</th>\n",
              "      <td>442.52</td>\n",
              "      <td>523.84</td>\n",
              "      <td>2701</td>\n",
              "      <td>146828</td>\n",
              "      <td>2480</td>\n",
              "      <td>89</td>\n",
              "      <td>215</td>\n",
              "      <td>15</td>\n",
              "    </tr>\n",
              "    <tr>\n",
              "      <th>management</th>\n",
              "      <td>391.45</td>\n",
              "      <td>456.12</td>\n",
              "      <td>2432</td>\n",
              "      <td>126787</td>\n",
              "      <td>2711</td>\n",
              "      <td>103</td>\n",
              "      <td>91</td>\n",
              "      <td>69</td>\n",
              "    </tr>\n",
              "    <tr>\n",
              "      <th>marketing</th>\n",
              "      <td>530.76</td>\n",
              "      <td>614.23</td>\n",
              "      <td>3164</td>\n",
              "      <td>171073</td>\n",
              "      <td>3063</td>\n",
              "      <td>138</td>\n",
              "      <td>203</td>\n",
              "      <td>43</td>\n",
              "    </tr>\n",
              "    <tr>\n",
              "      <th>product_mng</th>\n",
              "      <td>558.91</td>\n",
              "      <td>644.71</td>\n",
              "      <td>3434</td>\n",
              "      <td>180369</td>\n",
              "      <td>3135</td>\n",
              "      <td>132</td>\n",
              "      <td>198</td>\n",
              "      <td>0</td>\n",
              "    </tr>\n",
              "    <tr>\n",
              "      <th>sales</th>\n",
              "      <td>2543.81</td>\n",
              "      <td>2938.23</td>\n",
              "      <td>15634</td>\n",
              "      <td>831773</td>\n",
              "      <td>14631</td>\n",
              "      <td>587</td>\n",
              "      <td>1014</td>\n",
              "      <td>100</td>\n",
              "    </tr>\n",
              "    <tr>\n",
              "      <th>support</th>\n",
              "      <td>1378.19</td>\n",
              "      <td>1611.81</td>\n",
              "      <td>8479</td>\n",
              "      <td>447490</td>\n",
              "      <td>7563</td>\n",
              "      <td>345</td>\n",
              "      <td>555</td>\n",
              "      <td>20</td>\n",
              "    </tr>\n",
              "    <tr>\n",
              "      <th>technical</th>\n",
              "      <td>1653.48</td>\n",
              "      <td>1961.39</td>\n",
              "      <td>10548</td>\n",
              "      <td>550793</td>\n",
              "      <td>9279</td>\n",
              "      <td>381</td>\n",
              "      <td>697</td>\n",
              "      <td>28</td>\n",
              "    </tr>\n",
              "  </tbody>\n",
              "</table>\n",
              "</div>\n",
              "      <button class=\"colab-df-convert\" onclick=\"convertToInteractive('df-9ef17662-72bc-4b90-b8a6-3402e7920f7b')\"\n",
              "              title=\"Convert this dataframe to an interactive table.\"\n",
              "              style=\"display:none;\">\n",
              "        \n",
              "  <svg xmlns=\"http://www.w3.org/2000/svg\" height=\"24px\"viewBox=\"0 0 24 24\"\n",
              "       width=\"24px\">\n",
              "    <path d=\"M0 0h24v24H0V0z\" fill=\"none\"/>\n",
              "    <path d=\"M18.56 5.44l.94 2.06.94-2.06 2.06-.94-2.06-.94-.94-2.06-.94 2.06-2.06.94zm-11 1L8.5 8.5l.94-2.06 2.06-.94-2.06-.94L8.5 2.5l-.94 2.06-2.06.94zm10 10l.94 2.06.94-2.06 2.06-.94-2.06-.94-.94-2.06-.94 2.06-2.06.94z\"/><path d=\"M17.41 7.96l-1.37-1.37c-.4-.4-.92-.59-1.43-.59-.52 0-1.04.2-1.43.59L10.3 9.45l-7.72 7.72c-.78.78-.78 2.05 0 2.83L4 21.41c.39.39.9.59 1.41.59.51 0 1.02-.2 1.41-.59l7.78-7.78 2.81-2.81c.8-.78.8-2.07 0-2.86zM5.41 20L4 18.59l7.72-7.72 1.47 1.35L5.41 20z\"/>\n",
              "  </svg>\n",
              "      </button>\n",
              "      \n",
              "  <style>\n",
              "    .colab-df-container {\n",
              "      display:flex;\n",
              "      flex-wrap:wrap;\n",
              "      gap: 12px;\n",
              "    }\n",
              "\n",
              "    .colab-df-convert {\n",
              "      background-color: #E8F0FE;\n",
              "      border: none;\n",
              "      border-radius: 50%;\n",
              "      cursor: pointer;\n",
              "      display: none;\n",
              "      fill: #1967D2;\n",
              "      height: 32px;\n",
              "      padding: 0 0 0 0;\n",
              "      width: 32px;\n",
              "    }\n",
              "\n",
              "    .colab-df-convert:hover {\n",
              "      background-color: #E2EBFA;\n",
              "      box-shadow: 0px 1px 2px rgba(60, 64, 67, 0.3), 0px 1px 3px 1px rgba(60, 64, 67, 0.15);\n",
              "      fill: #174EA6;\n",
              "    }\n",
              "\n",
              "    [theme=dark] .colab-df-convert {\n",
              "      background-color: #3B4455;\n",
              "      fill: #D2E3FC;\n",
              "    }\n",
              "\n",
              "    [theme=dark] .colab-df-convert:hover {\n",
              "      background-color: #434B5C;\n",
              "      box-shadow: 0px 1px 3px 1px rgba(0, 0, 0, 0.15);\n",
              "      filter: drop-shadow(0px 1px 2px rgba(0, 0, 0, 0.3));\n",
              "      fill: #FFFFFF;\n",
              "    }\n",
              "  </style>\n",
              "\n",
              "      <script>\n",
              "        const buttonEl =\n",
              "          document.querySelector('#df-9ef17662-72bc-4b90-b8a6-3402e7920f7b button.colab-df-convert');\n",
              "        buttonEl.style.display =\n",
              "          google.colab.kernel.accessAllowed ? 'block' : 'none';\n",
              "\n",
              "        async function convertToInteractive(key) {\n",
              "          const element = document.querySelector('#df-9ef17662-72bc-4b90-b8a6-3402e7920f7b');\n",
              "          const dataTable =\n",
              "            await google.colab.kernel.invokeFunction('convertToInteractive',\n",
              "                                                     [key], {});\n",
              "          if (!dataTable) return;\n",
              "\n",
              "          const docLinkHtml = 'Like what you see? Visit the ' +\n",
              "            '<a target=\"_blank\" href=https://colab.research.google.com/notebooks/data_table.ipynb>data table notebook</a>'\n",
              "            + ' to learn more about interactive tables.';\n",
              "          element.innerHTML = '';\n",
              "          dataTable['output_type'] = 'display_data';\n",
              "          await google.colab.output.renderOutput(dataTable, element);\n",
              "          const docLink = document.createElement('div');\n",
              "          docLink.innerHTML = docLinkHtml;\n",
              "          element.appendChild(docLink);\n",
              "        }\n",
              "      </script>\n",
              "    </div>\n",
              "  </div>\n",
              "  "
            ]
          },
          "metadata": {},
          "execution_count": 19
        }
      ],
      "source": [
        "sales=df.groupby('sales').sum()\n",
        "sales"
      ]
    },
    {
      "cell_type": "code",
      "execution_count": 20,
      "metadata": {
        "_cell_guid": "6b073f41-0007-fe97-f6d8-694161c7827b",
        "colab": {
          "base_uri": "https://localhost:8080/"
        },
        "id": "BU1KivzQopPJ",
        "outputId": "ddb9c4a0-ca5f-4dff-e818-e6dfe03dc193"
      },
      "outputs": [
        {
          "output_type": "execute_result",
          "data": {
            "text/plain": [
              "array(['sales', 'accounting', 'hr', 'technical', 'support', 'management',\n",
              "       'IT', 'product_mng', 'marketing', 'RandD'], dtype=object)"
            ]
          },
          "metadata": {},
          "execution_count": 20
        }
      ],
      "source": [
        "df['sales'].unique()"
      ]
    },
    {
      "cell_type": "code",
      "execution_count": 21,
      "metadata": {
        "_cell_guid": "908b71f5-d31f-aaa6-5ab0-339a0f11df40",
        "colab": {
          "base_uri": "https://localhost:8080/",
          "height": 458
        },
        "id": "14-7uW_vopPJ",
        "outputId": "70286125-023f-4065-947f-c212cc272185"
      },
      "outputs": [
        {
          "output_type": "execute_result",
          "data": {
            "text/plain": [
              "             satisfaction_level  last_evaluation  number_project  \\\n",
              "sales                                                              \n",
              "IT                     0.618142         0.716830        3.816626   \n",
              "RandD                  0.619822         0.712122        3.853875   \n",
              "accounting             0.582151         0.717718        3.825293   \n",
              "hr                     0.598809         0.708850        3.654939   \n",
              "management             0.621349         0.724000        3.860317   \n",
              "marketing              0.618601         0.715886        3.687646   \n",
              "product_mng            0.619634         0.714756        3.807095   \n",
              "sales                  0.614447         0.709717        3.776329   \n",
              "support                0.618300         0.723109        3.803948   \n",
              "technical              0.607897         0.721099        3.877941   \n",
              "\n",
              "             average_montly_hours  time_spend_company  Work_accident  \\\n",
              "sales                                                                  \n",
              "IT                     202.215974            3.468623       0.133659   \n",
              "RandD                  200.800508            3.367217       0.170267   \n",
              "accounting             201.162973            3.522816       0.125163   \n",
              "hr                     198.684709            3.355886       0.120433   \n",
              "management             201.249206            4.303175       0.163492   \n",
              "marketing              199.385781            3.569930       0.160839   \n",
              "product_mng            199.965632            3.475610       0.146341   \n",
              "sales                  200.911353            3.534058       0.141787   \n",
              "support                200.758188            3.393001       0.154778   \n",
              "technical              202.497426            3.411397       0.140074   \n",
              "\n",
              "                 left  promotion_last_5years  \n",
              "sales                                         \n",
              "IT           0.222494               0.002445  \n",
              "RandD        0.153748               0.034307  \n",
              "accounting   0.265971               0.018253  \n",
              "hr           0.290934               0.020298  \n",
              "management   0.144444               0.109524  \n",
              "marketing    0.236597               0.050117  \n",
              "product_mng  0.219512               0.000000  \n",
              "sales        0.244928               0.024155  \n",
              "support      0.248991               0.008973  \n",
              "technical    0.256250               0.010294  "
            ],
            "text/html": [
              "\n",
              "  <div id=\"df-a8a4bb9a-d8fe-4f5b-8091-a5b5f8bc1131\">\n",
              "    <div class=\"colab-df-container\">\n",
              "      <div>\n",
              "<style scoped>\n",
              "    .dataframe tbody tr th:only-of-type {\n",
              "        vertical-align: middle;\n",
              "    }\n",
              "\n",
              "    .dataframe tbody tr th {\n",
              "        vertical-align: top;\n",
              "    }\n",
              "\n",
              "    .dataframe thead th {\n",
              "        text-align: right;\n",
              "    }\n",
              "</style>\n",
              "<table border=\"1\" class=\"dataframe\">\n",
              "  <thead>\n",
              "    <tr style=\"text-align: right;\">\n",
              "      <th></th>\n",
              "      <th>satisfaction_level</th>\n",
              "      <th>last_evaluation</th>\n",
              "      <th>number_project</th>\n",
              "      <th>average_montly_hours</th>\n",
              "      <th>time_spend_company</th>\n",
              "      <th>Work_accident</th>\n",
              "      <th>left</th>\n",
              "      <th>promotion_last_5years</th>\n",
              "    </tr>\n",
              "    <tr>\n",
              "      <th>sales</th>\n",
              "      <th></th>\n",
              "      <th></th>\n",
              "      <th></th>\n",
              "      <th></th>\n",
              "      <th></th>\n",
              "      <th></th>\n",
              "      <th></th>\n",
              "      <th></th>\n",
              "    </tr>\n",
              "  </thead>\n",
              "  <tbody>\n",
              "    <tr>\n",
              "      <th>IT</th>\n",
              "      <td>0.618142</td>\n",
              "      <td>0.716830</td>\n",
              "      <td>3.816626</td>\n",
              "      <td>202.215974</td>\n",
              "      <td>3.468623</td>\n",
              "      <td>0.133659</td>\n",
              "      <td>0.222494</td>\n",
              "      <td>0.002445</td>\n",
              "    </tr>\n",
              "    <tr>\n",
              "      <th>RandD</th>\n",
              "      <td>0.619822</td>\n",
              "      <td>0.712122</td>\n",
              "      <td>3.853875</td>\n",
              "      <td>200.800508</td>\n",
              "      <td>3.367217</td>\n",
              "      <td>0.170267</td>\n",
              "      <td>0.153748</td>\n",
              "      <td>0.034307</td>\n",
              "    </tr>\n",
              "    <tr>\n",
              "      <th>accounting</th>\n",
              "      <td>0.582151</td>\n",
              "      <td>0.717718</td>\n",
              "      <td>3.825293</td>\n",
              "      <td>201.162973</td>\n",
              "      <td>3.522816</td>\n",
              "      <td>0.125163</td>\n",
              "      <td>0.265971</td>\n",
              "      <td>0.018253</td>\n",
              "    </tr>\n",
              "    <tr>\n",
              "      <th>hr</th>\n",
              "      <td>0.598809</td>\n",
              "      <td>0.708850</td>\n",
              "      <td>3.654939</td>\n",
              "      <td>198.684709</td>\n",
              "      <td>3.355886</td>\n",
              "      <td>0.120433</td>\n",
              "      <td>0.290934</td>\n",
              "      <td>0.020298</td>\n",
              "    </tr>\n",
              "    <tr>\n",
              "      <th>management</th>\n",
              "      <td>0.621349</td>\n",
              "      <td>0.724000</td>\n",
              "      <td>3.860317</td>\n",
              "      <td>201.249206</td>\n",
              "      <td>4.303175</td>\n",
              "      <td>0.163492</td>\n",
              "      <td>0.144444</td>\n",
              "      <td>0.109524</td>\n",
              "    </tr>\n",
              "    <tr>\n",
              "      <th>marketing</th>\n",
              "      <td>0.618601</td>\n",
              "      <td>0.715886</td>\n",
              "      <td>3.687646</td>\n",
              "      <td>199.385781</td>\n",
              "      <td>3.569930</td>\n",
              "      <td>0.160839</td>\n",
              "      <td>0.236597</td>\n",
              "      <td>0.050117</td>\n",
              "    </tr>\n",
              "    <tr>\n",
              "      <th>product_mng</th>\n",
              "      <td>0.619634</td>\n",
              "      <td>0.714756</td>\n",
              "      <td>3.807095</td>\n",
              "      <td>199.965632</td>\n",
              "      <td>3.475610</td>\n",
              "      <td>0.146341</td>\n",
              "      <td>0.219512</td>\n",
              "      <td>0.000000</td>\n",
              "    </tr>\n",
              "    <tr>\n",
              "      <th>sales</th>\n",
              "      <td>0.614447</td>\n",
              "      <td>0.709717</td>\n",
              "      <td>3.776329</td>\n",
              "      <td>200.911353</td>\n",
              "      <td>3.534058</td>\n",
              "      <td>0.141787</td>\n",
              "      <td>0.244928</td>\n",
              "      <td>0.024155</td>\n",
              "    </tr>\n",
              "    <tr>\n",
              "      <th>support</th>\n",
              "      <td>0.618300</td>\n",
              "      <td>0.723109</td>\n",
              "      <td>3.803948</td>\n",
              "      <td>200.758188</td>\n",
              "      <td>3.393001</td>\n",
              "      <td>0.154778</td>\n",
              "      <td>0.248991</td>\n",
              "      <td>0.008973</td>\n",
              "    </tr>\n",
              "    <tr>\n",
              "      <th>technical</th>\n",
              "      <td>0.607897</td>\n",
              "      <td>0.721099</td>\n",
              "      <td>3.877941</td>\n",
              "      <td>202.497426</td>\n",
              "      <td>3.411397</td>\n",
              "      <td>0.140074</td>\n",
              "      <td>0.256250</td>\n",
              "      <td>0.010294</td>\n",
              "    </tr>\n",
              "  </tbody>\n",
              "</table>\n",
              "</div>\n",
              "      <button class=\"colab-df-convert\" onclick=\"convertToInteractive('df-a8a4bb9a-d8fe-4f5b-8091-a5b5f8bc1131')\"\n",
              "              title=\"Convert this dataframe to an interactive table.\"\n",
              "              style=\"display:none;\">\n",
              "        \n",
              "  <svg xmlns=\"http://www.w3.org/2000/svg\" height=\"24px\"viewBox=\"0 0 24 24\"\n",
              "       width=\"24px\">\n",
              "    <path d=\"M0 0h24v24H0V0z\" fill=\"none\"/>\n",
              "    <path d=\"M18.56 5.44l.94 2.06.94-2.06 2.06-.94-2.06-.94-.94-2.06-.94 2.06-2.06.94zm-11 1L8.5 8.5l.94-2.06 2.06-.94-2.06-.94L8.5 2.5l-.94 2.06-2.06.94zm10 10l.94 2.06.94-2.06 2.06-.94-2.06-.94-.94-2.06-.94 2.06-2.06.94z\"/><path d=\"M17.41 7.96l-1.37-1.37c-.4-.4-.92-.59-1.43-.59-.52 0-1.04.2-1.43.59L10.3 9.45l-7.72 7.72c-.78.78-.78 2.05 0 2.83L4 21.41c.39.39.9.59 1.41.59.51 0 1.02-.2 1.41-.59l7.78-7.78 2.81-2.81c.8-.78.8-2.07 0-2.86zM5.41 20L4 18.59l7.72-7.72 1.47 1.35L5.41 20z\"/>\n",
              "  </svg>\n",
              "      </button>\n",
              "      \n",
              "  <style>\n",
              "    .colab-df-container {\n",
              "      display:flex;\n",
              "      flex-wrap:wrap;\n",
              "      gap: 12px;\n",
              "    }\n",
              "\n",
              "    .colab-df-convert {\n",
              "      background-color: #E8F0FE;\n",
              "      border: none;\n",
              "      border-radius: 50%;\n",
              "      cursor: pointer;\n",
              "      display: none;\n",
              "      fill: #1967D2;\n",
              "      height: 32px;\n",
              "      padding: 0 0 0 0;\n",
              "      width: 32px;\n",
              "    }\n",
              "\n",
              "    .colab-df-convert:hover {\n",
              "      background-color: #E2EBFA;\n",
              "      box-shadow: 0px 1px 2px rgba(60, 64, 67, 0.3), 0px 1px 3px 1px rgba(60, 64, 67, 0.15);\n",
              "      fill: #174EA6;\n",
              "    }\n",
              "\n",
              "    [theme=dark] .colab-df-convert {\n",
              "      background-color: #3B4455;\n",
              "      fill: #D2E3FC;\n",
              "    }\n",
              "\n",
              "    [theme=dark] .colab-df-convert:hover {\n",
              "      background-color: #434B5C;\n",
              "      box-shadow: 0px 1px 3px 1px rgba(0, 0, 0, 0.15);\n",
              "      filter: drop-shadow(0px 1px 2px rgba(0, 0, 0, 0.3));\n",
              "      fill: #FFFFFF;\n",
              "    }\n",
              "  </style>\n",
              "\n",
              "      <script>\n",
              "        const buttonEl =\n",
              "          document.querySelector('#df-a8a4bb9a-d8fe-4f5b-8091-a5b5f8bc1131 button.colab-df-convert');\n",
              "        buttonEl.style.display =\n",
              "          google.colab.kernel.accessAllowed ? 'block' : 'none';\n",
              "\n",
              "        async function convertToInteractive(key) {\n",
              "          const element = document.querySelector('#df-a8a4bb9a-d8fe-4f5b-8091-a5b5f8bc1131');\n",
              "          const dataTable =\n",
              "            await google.colab.kernel.invokeFunction('convertToInteractive',\n",
              "                                                     [key], {});\n",
              "          if (!dataTable) return;\n",
              "\n",
              "          const docLinkHtml = 'Like what you see? Visit the ' +\n",
              "            '<a target=\"_blank\" href=https://colab.research.google.com/notebooks/data_table.ipynb>data table notebook</a>'\n",
              "            + ' to learn more about interactive tables.';\n",
              "          element.innerHTML = '';\n",
              "          dataTable['output_type'] = 'display_data';\n",
              "          await google.colab.output.renderOutput(dataTable, element);\n",
              "          const docLink = document.createElement('div');\n",
              "          docLink.innerHTML = docLinkHtml;\n",
              "          element.appendChild(docLink);\n",
              "        }\n",
              "      </script>\n",
              "    </div>\n",
              "  </div>\n",
              "  "
            ]
          },
          "metadata": {},
          "execution_count": 21
        }
      ],
      "source": [
        "groupby_sales=df.groupby('sales').mean()\n",
        "groupby_sales"
      ]
    },
    {
      "cell_type": "code",
      "execution_count": 22,
      "metadata": {
        "_cell_guid": "6aaed7f3-b146-6b99-fd0b-96749077da56",
        "colab": {
          "base_uri": "https://localhost:8080/"
        },
        "id": "Jl5bbVyjopPK",
        "outputId": "eaa3672b-d725-4cdd-c680-00cf670ff421"
      },
      "outputs": [
        {
          "output_type": "execute_result",
          "data": {
            "text/plain": [
              "0.6078970588235294"
            ]
          },
          "metadata": {},
          "execution_count": 22
        }
      ],
      "source": [
        "IT=groupby_sales['satisfaction_level'].IT\n",
        "RandD=groupby_sales['satisfaction_level'].RandD\n",
        "accounting=groupby_sales['satisfaction_level'].accounting\n",
        "hr=groupby_sales['satisfaction_level'].hr\n",
        "management=groupby_sales['satisfaction_level'].management\n",
        "marketing=groupby_sales['satisfaction_level'].marketing\n",
        "product_mng=groupby_sales['satisfaction_level'].product_mng\n",
        "sales=groupby_sales['satisfaction_level'].sales\n",
        "support=groupby_sales['satisfaction_level'].support\n",
        "technical=groupby_sales['satisfaction_level'].technical\n",
        "technical"
      ]
    },
    {
      "cell_type": "code",
      "execution_count": 23,
      "metadata": {
        "_cell_guid": "2e89f233-180a-2a39-ffeb-d64d1cba4bbd",
        "colab": {
          "base_uri": "https://localhost:8080/",
          "height": 312
        },
        "id": "0t3D1VykopPL",
        "outputId": "24a24db4-5f43-49b7-a0df-ab6901b091de"
      },
      "outputs": [
        {
          "output_type": "execute_result",
          "data": {
            "text/plain": [
              "Text(0.5, 1.0, 'Mean Satisfaction Level of each department')"
            ]
          },
          "metadata": {},
          "execution_count": 23
        },
        {
          "output_type": "display_data",
          "data": {
            "text/plain": [
              "<Figure size 432x288 with 1 Axes>"
            ],
            "image/png": "[encoded data removed]"
          },
          "metadata": {
            "needs_background": "light"
          }
        }
      ],
      "source": [
        "\n",
        "department_name=('sales', 'accounting', 'hr', 'technical', 'support', 'management',\n",
        "       'IT', 'product_mng', 'marketing', 'RandD')\n",
        "department=(sales, accounting, hr, technical, support, management,\n",
        "       IT, product_mng, marketing, RandD)\n",
        "y_pos = np.arange(len(department))\n",
        "x=np.arange(0,1,0.1)\n",
        "\n",
        "plt.barh(y_pos, department, align='center', alpha=0.8)\n",
        "plt.yticks(y_pos,department_name )\n",
        "plt.xlabel('Satisfaction level')\n",
        "plt.title('Mean Satisfaction Level of each department')"
      ]
    },
    {
      "cell_type": "markdown",
      "metadata": {
        "_cell_guid": "116c4b0b-cac8-52e4-709e-a5ac78752d07",
        "id": "SQlSR4T2opPL"
      },
      "source": [
        "# Principal Component Analysis"
      ]
    },
    {
      "cell_type": "code",
      "execution_count": 24,
      "metadata": {
        "_cell_guid": "6653ce6e-0f41-e576-b051-09eb2784c93b",
        "colab": {
          "base_uri": "https://localhost:8080/",
          "height": 270
        },
        "id": "Ty_hozMvopPM",
        "outputId": "c8c22bc3-f36c-4dba-eb9c-b4c72a70ea6e"
      },
      "outputs": [
        {
          "output_type": "execute_result",
          "data": {
            "text/plain": [
              "   satisfaction_level  last_evaluation  number_project  average_montly_hours  \\\n",
              "0                0.38             0.53               2                   157   \n",
              "1                0.80             0.86               5                   262   \n",
              "2                0.11             0.88               7                   272   \n",
              "3                0.72             0.87               5                   223   \n",
              "4                0.37             0.52               2                   159   \n",
              "\n",
              "   time_spend_company  Work_accident  left  promotion_last_5years  sales  \\\n",
              "0                   3              0     1                      0  sales   \n",
              "1                   6              0     1                      0  sales   \n",
              "2                   4              0     1                      0  sales   \n",
              "3                   5              0     1                      0  sales   \n",
              "4                   3              0     1                      0  sales   \n",
              "\n",
              "   salary  \n",
              "0     low  \n",
              "1  medium  \n",
              "2  medium  \n",
              "3     low  \n",
              "4     low  "
            ],
            "text/html": [
              "\n",
              "  <div id=\"df-d372c007-19f1-4cb8-9931-2201a3605e42\">\n",
              "    <div class=\"colab-df-container\">\n",
              "      <div>\n",
              "<style scoped>\n",
              "    .dataframe tbody tr th:only-of-type {\n",
              "        vertical-align: middle;\n",
              "    }\n",
              "\n",
              "    .dataframe tbody tr th {\n",
              "        vertical-align: top;\n",
              "    }\n",
              "\n",
              "    .dataframe thead th {\n",
              "        text-align: right;\n",
              "    }\n",
              "</style>\n",
              "<table border=\"1\" class=\"dataframe\">\n",
              "  <thead>\n",
              "    <tr style=\"text-align: right;\">\n",
              "      <th></th>\n",
              "      <th>satisfaction_level</th>\n",
              "      <th>last_evaluation</th>\n",
              "      <th>number_project</th>\n",
              "      <th>average_montly_hours</th>\n",
              "      <th>time_spend_company</th>\n",
              "      <th>Work_accident</th>\n",
              "      <th>left</th>\n",
              "      <th>promotion_last_5years</th>\n",
              "      <th>sales</th>\n",
              "      <th>salary</th>\n",
              "    </tr>\n",
              "  </thead>\n",
              "  <tbody>\n",
              "    <tr>\n",
              "      <th>0</th>\n",
              "      <td>0.38</td>\n",
              "      <td>0.53</td>\n",
              "      <td>2</td>\n",
              "      <td>157</td>\n",
              "      <td>3</td>\n",
              "      <td>0</td>\n",
              "      <td>1</td>\n",
              "      <td>0</td>\n",
              "      <td>sales</td>\n",
              "      <td>low</td>\n",
              "    </tr>\n",
              "    <tr>\n",
              "      <th>1</th>\n",
              "      <td>0.80</td>\n",
              "      <td>0.86</td>\n",
              "      <td>5</td>\n",
              "      <td>262</td>\n",
              "      <td>6</td>\n",
              "      <td>0</td>\n",
              "      <td>1</td>\n",
              "      <td>0</td>\n",
              "      <td>sales</td>\n",
              "      <td>medium</td>\n",
              "    </tr>\n",
              "    <tr>\n",
              "      <th>2</th>\n",
              "      <td>0.11</td>\n",
              "      <td>0.88</td>\n",
              "      <td>7</td>\n",
              "      <td>272</td>\n",
              "      <td>4</td>\n",
              "      <td>0</td>\n",
              "      <td>1</td>\n",
              "      <td>0</td>\n",
              "      <td>sales</td>\n",
              "      <td>medium</td>\n",
              "    </tr>\n",
              "    <tr>\n",
              "      <th>3</th>\n",
              "      <td>0.72</td>\n",
              "      <td>0.87</td>\n",
              "      <td>5</td>\n",
              "      <td>223</td>\n",
              "      <td>5</td>\n",
              "      <td>0</td>\n",
              "      <td>1</td>\n",
              "      <td>0</td>\n",
              "      <td>sales</td>\n",
              "      <td>low</td>\n",
              "    </tr>\n",
              "    <tr>\n",
              "      <th>4</th>\n",
              "      <td>0.37</td>\n",
              "      <td>0.52</td>\n",
              "      <td>2</td>\n",
              "      <td>159</td>\n",
              "      <td>3</td>\n",
              "      <td>0</td>\n",
              "      <td>1</td>\n",
              "      <td>0</td>\n",
              "      <td>sales</td>\n",
              "      <td>low</td>\n",
              "    </tr>\n",
              "  </tbody>\n",
              "</table>\n",
              "</div>\n",
              "      <button class=\"colab-df-convert\" onclick=\"convertToInteractive('df-d372c007-19f1-4cb8-9931-2201a3605e42')\"\n",
              "              title=\"Convert this dataframe to an interactive table.\"\n",
              "              style=\"display:none;\">\n",
              "        \n",
              "  <svg xmlns=\"http://www.w3.org/2000/svg\" height=\"24px\"viewBox=\"0 0 24 24\"\n",
              "       width=\"24px\">\n",
              "    <path d=\"M0 0h24v24H0V0z\" fill=\"none\"/>\n",
              "    <path d=\"M18.56 5.44l.94 2.06.94-2.06 2.06-.94-2.06-.94-.94-2.06-.94 2.06-2.06.94zm-11 1L8.5 8.5l.94-2.06 2.06-.94-2.06-.94L8.5 2.5l-.94 2.06-2.06.94zm10 10l.94 2.06.94-2.06 2.06-.94-2.06-.94-.94-2.06-.94 2.06-2.06.94z\"/><path d=\"M17.41 7.96l-1.37-1.37c-.4-.4-.92-.59-1.43-.59-.52 0-1.04.2-1.43.59L10.3 9.45l-7.72 7.72c-.78.78-.78 2.05 0 2.83L4 21.41c.39.39.9.59 1.41.59.51 0 1.02-.2 1.41-.59l7.78-7.78 2.81-2.81c.8-.78.8-2.07 0-2.86zM5.41 20L4 18.59l7.72-7.72 1.47 1.35L5.41 20z\"/>\n",
              "  </svg>\n",
              "      </button>\n",
              "      \n",
              "  <style>\n",
              "    .colab-df-container {\n",
              "      display:flex;\n",
              "      flex-wrap:wrap;\n",
              "      gap: 12px;\n",
              "    }\n",
              "\n",
              "    .colab-df-convert {\n",
              "      background-color: #E8F0FE;\n",
              "      border: none;\n",
              "      border-radius: 50%;\n",
              "      cursor: pointer;\n",
              "      display: none;\n",
              "      fill: #1967D2;\n",
              "      height: 32px;\n",
              "      padding: 0 0 0 0;\n",
              "      width: 32px;\n",
              "    }\n",
              "\n",
              "    .colab-df-convert:hover {\n",
              "      background-color: #E2EBFA;\n",
              "      box-shadow: 0px 1px 2px rgba(60, 64, 67, 0.3), 0px 1px 3px 1px rgba(60, 64, 67, 0.15);\n",
              "      fill: #174EA6;\n",
              "    }\n",
              "\n",
              "    [theme=dark] .colab-df-convert {\n",
              "      background-color: #3B4455;\n",
              "      fill: #D2E3FC;\n",
              "    }\n",
              "\n",
              "    [theme=dark] .colab-df-convert:hover {\n",
              "      background-color: #434B5C;\n",
              "      box-shadow: 0px 1px 3px 1px rgba(0, 0, 0, 0.15);\n",
              "      filter: drop-shadow(0px 1px 2px rgba(0, 0, 0, 0.3));\n",
              "      fill: #FFFFFF;\n",
              "    }\n",
              "  </style>\n",
              "\n",
              "      <script>\n",
              "        const buttonEl =\n",
              "          document.querySelector('#df-d372c007-19f1-4cb8-9931-2201a3605e42 button.colab-df-convert');\n",
              "        buttonEl.style.display =\n",
              "          google.colab.kernel.accessAllowed ? 'block' : 'none';\n",
              "\n",
              "        async function convertToInteractive(key) {\n",
              "          const element = document.querySelector('#df-d372c007-19f1-4cb8-9931-2201a3605e42');\n",
              "          const dataTable =\n",
              "            await google.colab.kernel.invokeFunction('convertToInteractive',\n",
              "                                                     [key], {});\n",
              "          if (!dataTable) return;\n",
              "\n",
              "          const docLinkHtml = 'Like what you see? Visit the ' +\n",
              "            '<a target=\"_blank\" href=https://colab.research.google.com/notebooks/data_table.ipynb>data table notebook</a>'\n",
              "            + ' to learn more about interactive tables.';\n",
              "          element.innerHTML = '';\n",
              "          dataTable['output_type'] = 'display_data';\n",
              "          await google.colab.output.renderOutput(dataTable, element);\n",
              "          const docLink = document.createElement('div');\n",
              "          docLink.innerHTML = docLinkHtml;\n",
              "          element.appendChild(docLink);\n",
              "        }\n",
              "      </script>\n",
              "    </div>\n",
              "  </div>\n",
              "  "
            ]
          },
          "metadata": {},
          "execution_count": 24
        }
      ],
      "source": [
        "df.head()"
      ]
    },
    {
      "cell_type": "code",
      "execution_count": 25,
      "metadata": {
        "_cell_guid": "e037b5d2-eb93-9824-45cb-1bbec730e929",
        "colab": {
          "base_uri": "https://localhost:8080/",
          "height": 250
        },
        "id": "MrXKh59MopPM",
        "outputId": "00aed685-cdf5-4cee-e611-2c98ff8abbf6"
      },
      "outputs": [
        {
          "output_type": "execute_result",
          "data": {
            "text/plain": [
              "   satisfaction_level  last_evaluation  number_project  average_montly_hours  \\\n",
              "0                0.38             0.53               2                   157   \n",
              "1                0.80             0.86               5                   262   \n",
              "2                0.11             0.88               7                   272   \n",
              "3                0.72             0.87               5                   223   \n",
              "4                0.37             0.52               2                   159   \n",
              "\n",
              "   time_spend_company  Work_accident  left  promotion_last_5years  \n",
              "0                   3              0     1                      0  \n",
              "1                   6              0     1                      0  \n",
              "2                   4              0     1                      0  \n",
              "3                   5              0     1                      0  \n",
              "4                   3              0     1                      0  "
            ],
            "text/html": [
              "\n",
              "  <div id=\"df-e8e7f084-dea8-4b23-92f8-ee7708d4aa7c\">\n",
              "    <div class=\"colab-df-container\">\n",
              "      <div>\n",
              "<style scoped>\n",
              "    .dataframe tbody tr th:only-of-type {\n",
              "        vertical-align: middle;\n",
              "    }\n",
              "\n",
              "    .dataframe tbody tr th {\n",
              "        vertical-align: top;\n",
              "    }\n",
              "\n",
              "    .dataframe thead th {\n",
              "        text-align: right;\n",
              "    }\n",
              "</style>\n",
              "<table border=\"1\" class=\"dataframe\">\n",
              "  <thead>\n",
              "    <tr style=\"text-align: right;\">\n",
              "      <th></th>\n",
              "      <th>satisfaction_level</th>\n",
              "      <th>last_evaluation</th>\n",
              "      <th>number_project</th>\n",
              "      <th>average_montly_hours</th>\n",
              "      <th>time_spend_company</th>\n",
              "      <th>Work_accident</th>\n",
              "      <th>left</th>\n",
              "      <th>promotion_last_5years</th>\n",
              "    </tr>\n",
              "  </thead>\n",
              "  <tbody>\n",
              "    <tr>\n",
              "      <th>0</th>\n",
              "      <td>0.38</td>\n",
              "      <td>0.53</td>\n",
              "      <td>2</td>\n",
              "      <td>157</td>\n",
              "      <td>3</td>\n",
              "      <td>0</td>\n",
              "      <td>1</td>\n",
              "      <td>0</td>\n",
              "    </tr>\n",
              "    <tr>\n",
              "      <th>1</th>\n",
              "      <td>0.80</td>\n",
              "      <td>0.86</td>\n",
              "      <td>5</td>\n",
              "      <td>262</td>\n",
              "      <td>6</td>\n",
              "      <td>0</td>\n",
              "      <td>1</td>\n",
              "      <td>0</td>\n",
              "    </tr>\n",
              "    <tr>\n",
              "      <th>2</th>\n",
              "      <td>0.11</td>\n",
              "      <td>0.88</td>\n",
              "      <td>7</td>\n",
              "      <td>272</td>\n",
              "      <td>4</td>\n",
              "      <td>0</td>\n",
              "      <td>1</td>\n",
              "      <td>0</td>\n",
              "    </tr>\n",
              "    <tr>\n",
              "      <th>3</th>\n",
              "      <td>0.72</td>\n",
              "      <td>0.87</td>\n",
              "      <td>5</td>\n",
              "      <td>223</td>\n",
              "      <td>5</td>\n",
              "      <td>0</td>\n",
              "      <td>1</td>\n",
              "      <td>0</td>\n",
              "    </tr>\n",
              "    <tr>\n",
              "      <th>4</th>\n",
              "      <td>0.37</td>\n",
              "      <td>0.52</td>\n",
              "      <td>2</td>\n",
              "      <td>159</td>\n",
              "      <td>3</td>\n",
              "      <td>0</td>\n",
              "      <td>1</td>\n",
              "      <td>0</td>\n",
              "    </tr>\n",
              "  </tbody>\n",
              "</table>\n",
              "</div>\n",
              "      <button class=\"colab-df-convert\" onclick=\"convertToInteractive('df-e8e7f084-dea8-4b23-92f8-ee7708d4aa7c')\"\n",
              "              title=\"Convert this dataframe to an interactive table.\"\n",
              "              style=\"display:none;\">\n",
              "        \n",
              "  <svg xmlns=\"http://www.w3.org/2000/svg\" height=\"24px\"viewBox=\"0 0 24 24\"\n",
              "       width=\"24px\">\n",
              "    <path d=\"M0 0h24v24H0V0z\" fill=\"none\"/>\n",
              "    <path d=\"M18.56 5.44l.94 2.06.94-2.06 2.06-.94-2.06-.94-.94-2.06-.94 2.06-2.06.94zm-11 1L8.5 8.5l.94-2.06 2.06-.94-2.06-.94L8.5 2.5l-.94 2.06-2.06.94zm10 10l.94 2.06.94-2.06 2.06-.94-2.06-.94-.94-2.06-.94 2.06-2.06.94z\"/><path d=\"M17.41 7.96l-1.37-1.37c-.4-.4-.92-.59-1.43-.59-.52 0-1.04.2-1.43.59L10.3 9.45l-7.72 7.72c-.78.78-.78 2.05 0 2.83L4 21.41c.39.39.9.59 1.41.59.51 0 1.02-.2 1.41-.59l7.78-7.78 2.81-2.81c.8-.78.8-2.07 0-2.86zM5.41 20L4 18.59l7.72-7.72 1.47 1.35L5.41 20z\"/>\n",
              "  </svg>\n",
              "      </button>\n",
              "      \n",
              "  <style>\n",
              "    .colab-df-container {\n",
              "      display:flex;\n",
              "      flex-wrap:wrap;\n",
              "      gap: 12px;\n",
              "    }\n",
              "\n",
              "    .colab-df-convert {\n",
              "      background-color: #E8F0FE;\n",
              "      border: none;\n",
              "      border-radius: 50%;\n",
              "      cursor: pointer;\n",
              "      display: none;\n",
              "      fill: #1967D2;\n",
              "      height: 32px;\n",
              "      padding: 0 0 0 0;\n",
              "      width: 32px;\n",
              "    }\n",
              "\n",
              "    .colab-df-convert:hover {\n",
              "      background-color: #E2EBFA;\n",
              "      box-shadow: 0px 1px 2px rgba(60, 64, 67, 0.3), 0px 1px 3px 1px rgba(60, 64, 67, 0.15);\n",
              "      fill: #174EA6;\n",
              "    }\n",
              "\n",
              "    [theme=dark] .colab-df-convert {\n",
              "      background-color: #3B4455;\n",
              "      fill: #D2E3FC;\n",
              "    }\n",
              "\n",
              "    [theme=dark] .colab-df-convert:hover {\n",
              "      background-color: #434B5C;\n",
              "      box-shadow: 0px 1px 3px 1px rgba(0, 0, 0, 0.15);\n",
              "      filter: drop-shadow(0px 1px 2px rgba(0, 0, 0, 0.3));\n",
              "      fill: #FFFFFF;\n",
              "    }\n",
              "  </style>\n",
              "\n",
              "      <script>\n",
              "        const buttonEl =\n",
              "          document.querySelector('#df-e8e7f084-dea8-4b23-92f8-ee7708d4aa7c button.colab-df-convert');\n",
              "        buttonEl.style.display =\n",
              "          google.colab.kernel.accessAllowed ? 'block' : 'none';\n",
              "\n",
              "        async function convertToInteractive(key) {\n",
              "          const element = document.querySelector('#df-e8e7f084-dea8-4b23-92f8-ee7708d4aa7c');\n",
              "          const dataTable =\n",
              "            await google.colab.kernel.invokeFunction('convertToInteractive',\n",
              "                                                     [key], {});\n",
              "          if (!dataTable) return;\n",
              "\n",
              "          const docLinkHtml = 'Like what you see? Visit the ' +\n",
              "            '<a target=\"_blank\" href=https://colab.research.google.com/notebooks/data_table.ipynb>data table notebook</a>'\n",
              "            + ' to learn more about interactive tables.';\n",
              "          element.innerHTML = '';\n",
              "          dataTable['output_type'] = 'display_data';\n",
              "          await google.colab.output.renderOutput(dataTable, element);\n",
              "          const docLink = document.createElement('div');\n",
              "          docLink.innerHTML = docLinkHtml;\n",
              "          element.appendChild(docLink);\n",
              "        }\n",
              "      </script>\n",
              "    </div>\n",
              "  </div>\n",
              "  "
            ]
          },
          "metadata": {},
          "execution_count": 25
        }
      ],
      "source": [
        "df_drop=df.drop(labels=['sales','salary'],axis=1)\n",
        "df_drop.head()"
      ]
    },
    {
      "cell_type": "markdown",
      "metadata": {
        "_cell_guid": "7cec556b-797e-fc62-e7d9-c78035fda8e2",
        "id": "cvqnlvk_opPN"
      },
      "source": [
        "**df.drop()**  is the method to drop the columns in our dataframe"
      ]
    },
    {
      "cell_type": "markdown",
      "metadata": {
        "_cell_guid": "dede7a0b-5084-b7de-4259-fb5fac90c376",
        "id": "09gnwYYtopPN"
      },
      "source": [
        "Now we need to bring \"left\" column to the front as it is the label and not the feature."
      ]
    },
    {
      "cell_type": "code",
      "execution_count": 26,
      "metadata": {
        "_cell_guid": "2af16458-8a20-8a23-fa61-796a0cc2ac6a",
        "colab": {
          "base_uri": "https://localhost:8080/"
        },
        "id": "9vg2YOhaopPN",
        "outputId": "f6104534-0ccb-419b-cf8a-efb571c9e478"
      },
      "outputs": [
        {
          "output_type": "execute_result",
          "data": {
            "text/plain": [
              "['satisfaction_level',\n",
              " 'last_evaluation',\n",
              " 'number_project',\n",
              " 'average_montly_hours',\n",
              " 'time_spend_company',\n",
              " 'Work_accident',\n",
              " 'left',\n",
              " 'promotion_last_5years']"
            ]
          },
          "metadata": {},
          "execution_count": 26
        }
      ],
      "source": [
        "cols = df_drop.columns.tolist()\n",
        "cols"
      ]
    },
    {
      "cell_type": "markdown",
      "metadata": {
        "_cell_guid": "75a23734-4e1a-21eb-e33a-1ee6dd32465c",
        "id": "W3fRj7ZmopPO"
      },
      "source": [
        "Here we are converting columns of the dataframe to list so it would be easier for us to reshuffle the columns.We are going to use cols.insert method\n"
      ]
    },
    {
      "cell_type": "code",
      "execution_count": 27,
      "metadata": {
        "_cell_guid": "be6e0527-b97e-6dc7-16f0-5a2b803c462b",
        "id": "xeXkWOvHopPO"
      },
      "outputs": [],
      "source": [
        "cols.insert(0, cols.pop(cols.index('left')))"
      ]
    },
    {
      "cell_type": "code",
      "execution_count": 28,
      "metadata": {
        "_cell_guid": "55548349-98fb-244c-bdb0-5ffc6723bc4e",
        "colab": {
          "base_uri": "https://localhost:8080/"
        },
        "id": "U64zb04uopPO",
        "outputId": "bf6963e4-b30b-43c0-aff5-d9823368f882"
      },
      "outputs": [
        {
          "output_type": "execute_result",
          "data": {
            "text/plain": [
              "['left',\n",
              " 'satisfaction_level',\n",
              " 'last_evaluation',\n",
              " 'number_project',\n",
              " 'average_montly_hours',\n",
              " 'time_spend_company',\n",
              " 'Work_accident',\n",
              " 'promotion_last_5years']"
            ]
          },
          "metadata": {},
          "execution_count": 28
        }
      ],
      "source": [
        "cols"
      ]
    },
    {
      "cell_type": "code",
      "execution_count": 29,
      "metadata": {
        "_cell_guid": "d5a8bee5-82b1-ea41-58a3-07b2a9c100f2",
        "id": "kBZKjsqRopPO"
      },
      "outputs": [],
      "source": [
        "df_drop = df_drop.reindex(columns= cols)"
      ]
    },
    {
      "cell_type": "markdown",
      "metadata": {
        "_cell_guid": "1ee617b8-cbc4-e9ac-5f57-a6dc91b4b8a3",
        "id": "f5MthyfmopPP"
      },
      "source": [
        "By using df_drop.reindex(columns= cols) we are converting list to columns again"
      ]
    },
    {
      "cell_type": "markdown",
      "metadata": {
        "_cell_guid": "3b8a1422-663c-cd2c-fe88-5bb2970ee8a0",
        "id": "AGv4KmwGopPP"
      },
      "source": [
        "Now we are separating features of our dataframe from the labels."
      ]
    },
    {
      "cell_type": "code",
      "execution_count": 30,
      "metadata": {
        "_cell_guid": "d4906f59-7d57-5979-b239-7fe91ba63482",
        "colab": {
          "base_uri": "https://localhost:8080/"
        },
        "id": "VJ-AHAm_opPP",
        "outputId": "6fd85b75-cddf-4bc8-adb1-11ccf7b255b9"
      },
      "outputs": [
        {
          "output_type": "execute_result",
          "data": {
            "text/plain": [
              "array([[0.38, 0.53, 2.  , ..., 3.  , 0.  , 0.  ],\n",
              "       [0.8 , 0.86, 5.  , ..., 6.  , 0.  , 0.  ],\n",
              "       [0.11, 0.88, 7.  , ..., 4.  , 0.  , 0.  ],\n",
              "       ...,\n",
              "       [0.37, 0.53, 2.  , ..., 3.  , 0.  , 0.  ],\n",
              "       [0.11, 0.96, 6.  , ..., 4.  , 0.  , 0.  ],\n",
              "       [0.37, 0.52, 2.  , ..., 3.  , 0.  , 0.  ]])"
            ]
          },
          "metadata": {},
          "execution_count": 30
        }
      ],
      "source": [
        "X = df_drop.iloc[:,1:8].values\n",
        "y = df_drop.iloc[:,0].values\n",
        "X"
      ]
    },
    {
      "cell_type": "code",
      "execution_count": 31,
      "metadata": {
        "_cell_guid": "99b81187-14ce-5a27-c299-b62baba0ea8b",
        "colab": {
          "base_uri": "https://localhost:8080/"
        },
        "id": "Y7u8x17vopPQ",
        "outputId": "c4ac938d-7cce-4c74-ad88-8edac2377287"
      },
      "outputs": [
        {
          "output_type": "execute_result",
          "data": {
            "text/plain": [
              "array([1, 1, 1, ..., 1, 1, 1])"
            ]
          },
          "metadata": {},
          "execution_count": 31
        }
      ],
      "source": [
        "y"
      ]
    },
    {
      "cell_type": "code",
      "execution_count": 35,
      "metadata": {
        "_cell_guid": "be17babb-5ffe-5c8a-c316-36eb17c67778",
        "colab": {
          "base_uri": "https://localhost:8080/"
        },
        "id": "CoVlB8eFopPQ",
        "outputId": "49c9906f-19f3-4639-c5a4-79540b518d9d"
      },
      "outputs": [
        {
          "output_type": "execute_result",
          "data": {
            "text/plain": [
              "(14999, 7)"
            ]
          },
          "metadata": {},
          "execution_count": 35
        }
      ],
      "source": [
        "np.shape(X)"
      ]
    },
    {
      "cell_type": "markdown",
      "metadata": {
        "_cell_guid": "2568bcdd-9936-f79d-e332-9b1ad62caf3a",
        "id": "ot-0ad1PopPQ"
      },
      "source": [
        "Thus X is now matrix with 14999 rows and 7 columns"
      ]
    },
    {
      "cell_type": "code",
      "execution_count": 33,
      "metadata": {
        "_cell_guid": "87b4bbb6-92bb-bbee-9184-d380aa257add",
        "colab": {
          "base_uri": "https://localhost:8080/"
        },
        "id": "CUHZMf8wopPR",
        "outputId": "12b83b2e-092e-4bfc-d13d-e9ea7d54cbcb"
      },
      "outputs": [
        {
          "output_type": "execute_result",
          "data": {
            "text/plain": [
              "(14999,)"
            ]
          },
          "metadata": {},
          "execution_count": 33
        }
      ],
      "source": [
        "np.shape(y)"
      ]
    },
    {
      "cell_type": "markdown",
      "metadata": {
        "_cell_guid": "59ca6356-f025-5e5b-fc56-a97fd03e40be",
        "id": "3Yzsb1QuopPR"
      },
      "source": [
        "y is now matrix with 14999 rows and 1 column"
      ]
    },
    {
      "cell_type": "markdown",
      "metadata": {
        "_cell_guid": "c31ea24e-ce38-02d8-031f-3361c57d633f",
        "id": "7_sF-WwXopPR"
      },
      "source": [
        "# 4) Data Standardisation\n",
        "Standardization refers to shifting the distribution of each attribute to have a mean of zero and a standard deviation of one (unit variance). It is useful to standardize attributes for a model.\n",
        "Standardization of datasets is a common requirement for many machine learning estimators implemented in scikit-learn; they might behave badly if the individual features do not more or less look like standard normally distributed data "
      ]
    },
    {
      "cell_type": "code",
      "execution_count": null,
      "metadata": {
        "_cell_guid": "0c518a19-10a5-97ed-b18f-e8e28d43cd6b",
        "id": "0e-U221TopPR"
      },
      "outputs": [],
      "source": [
        "from sklearn.preprocessing import StandardScaler\n",
        "X_std = StandardScaler().fit_transform(X)"
      ]
    },
    {
      "cell_type": "markdown",
      "metadata": {
        "_cell_guid": "40ebbdc2-7feb-ba0d-0154-1a47d53d4801",
        "id": "0W8RJsf_opPS"
      },
      "source": [
        "# 5) Computing Eigenvectors and Eigenvalues:\n",
        "Before computing Eigen vectors and values we need to calculate covariance matrix."
      ]
    },
    {
      "cell_type": "markdown",
      "metadata": {
        "_cell_guid": "24b83e60-da89-5e7d-8de9-6ea385a8b9f2",
        "id": "x-8k-JhKopPS"
      },
      "source": [
        "## Covariance matrix"
      ]
    },
    {
      "cell_type": "code",
      "execution_count": null,
      "metadata": {
        "_cell_guid": "fd99a8b1-4ad0-de34-16dc-fa1ec6315aec",
        "id": "bO4AwvESopPS",
        "outputId": "5607edf1-ec4f-498f-e3d9-90f3e85f1f65"
      },
      "outputs": [
        {
          "name": "stdout",
          "output_type": "stream",
          "text": [
            "Covariance matrix \n",
            "[[ 1.00006668  0.10502822 -0.14297912 -0.02004945 -0.1008728   0.05870115\n",
            "   0.02560689]\n",
            " [ 0.10502822  1.00006668  0.34935588  0.33976445  0.1315995  -0.00710476\n",
            "  -0.00868435]\n",
            " [-0.14297912  0.34935588  1.00006668  0.41723845  0.19679901 -0.00474086\n",
            "  -0.00606436]\n",
            " [-0.02004945  0.33976445  0.41723845  1.00006668  0.12776343 -0.01014356\n",
            "  -0.00354465]\n",
            " [-0.1008728   0.1315995   0.19679901  0.12776343  1.00006668  0.00212056\n",
            "   0.06743742]\n",
            " [ 0.05870115 -0.00710476 -0.00474086 -0.01014356  0.00212056  1.00006668\n",
            "   0.03924805]\n",
            " [ 0.02560689 -0.00868435 -0.00606436 -0.00354465  0.06743742  0.03924805\n",
            "   1.00006668]]\n"
          ]
        }
      ],
      "source": [
        "mean_vec = np.mean(X_std, axis=0)\n",
        "cov_mat = (X_std - mean_vec).T.dot((X_std - mean_vec)) / (X_std.shape[0]-1)\n",
        "print('Covariance matrix \\n%s' %cov_mat)"
      ]
    },
    {
      "cell_type": "code",
      "execution_count": null,
      "metadata": {
        "_cell_guid": "3d2ad526-3e39-8b21-efca-c9147f1dcf32",
        "id": "MvgXINrpopPT",
        "outputId": "479a9505-262f-465d-93e9-2e8a05202f38"
      },
      "outputs": [
        {
          "name": "stdout",
          "output_type": "stream",
          "text": [
            "NumPy covariance matrix: \n",
            "[[ 1.00006668  0.10502822 -0.14297912 -0.02004945 -0.1008728   0.05870115\n",
            "   0.02560689]\n",
            " [ 0.10502822  1.00006668  0.34935588  0.33976445  0.1315995  -0.00710476\n",
            "  -0.00868435]\n",
            " [-0.14297912  0.34935588  1.00006668  0.41723845  0.19679901 -0.00474086\n",
            "  -0.00606436]\n",
            " [-0.02004945  0.33976445  0.41723845  1.00006668  0.12776343 -0.01014356\n",
            "  -0.00354465]\n",
            " [-0.1008728   0.1315995   0.19679901  0.12776343  1.00006668  0.00212056\n",
            "   0.06743742]\n",
            " [ 0.05870115 -0.00710476 -0.00474086 -0.01014356  0.00212056  1.00006668\n",
            "   0.03924805]\n",
            " [ 0.02560689 -0.00868435 -0.00606436 -0.00354465  0.06743742  0.03924805\n",
            "   1.00006668]]\n"
          ]
        }
      ],
      "source": [
        "print('NumPy covariance matrix: \\n%s' %np.cov(X_std.T))"
      ]
    },
    {
      "cell_type": "markdown",
      "metadata": {
        "_cell_guid": "fa045e55-3a25-4204-38e9-b3bafdf5a4c3",
        "id": "0Y6qjCILopPT"
      },
      "source": [
        "Equivalently we could have used Numpy np.cov to calculate covariance matrix"
      ]
    },
    {
      "cell_type": "code",
      "execution_count": null,
      "metadata": {
        "_cell_guid": "36f9299f-ff1b-05b3-fc58-f193856003e8",
        "id": "7Qgq5KOUopPT",
        "outputId": "b48ee882-8871-481a-e3a8-8020729b48b7"
      },
      "outputs": [
        {
          "data": {
            "text/plain": [
              "<matplotlib.text.Text at 0x7fa70e8007b8>"
            ]
          },
          "execution_count": 28,
          "metadata": {},
          "output_type": "execute_result"
        },
        {
          "data": {
            "image/png": "[encoded data removed]",
            "text/plain": [
              "<matplotlib.figure.Figure at 0x7fa70e846358>"
            ]
          },
          "metadata": {},
          "output_type": "display_data"
        }
      ],
      "source": [
        "plt.figure(figsize=(8,8))\n",
        "sns.heatmap(cov_mat, vmax=1, square=True,annot=True,cmap='cubehelix')\n",
        "\n",
        "plt.title('Correlation between different features')"
      ]
    },
    {
      "cell_type": "markdown",
      "metadata": {
        "_cell_guid": "eff69898-d80f-4b7e-6fb2-5ad387d03011",
        "id": "CBSxeH3sopPU"
      },
      "source": [
        "# Eigen decomposition of the covariance matrix"
      ]
    },
    {
      "cell_type": "code",
      "execution_count": null,
      "metadata": {
        "_cell_guid": "aaa8cb48-91db-8f89-afd6-2899a0b7ba35",
        "id": "w1x-5k4iopPU",
        "outputId": "a17353f4-f261-4f98-dcf4-944ef8d9dfe9"
      },
      "outputs": [
        {
          "name": "stdout",
          "output_type": "stream",
          "text": [
            "Eigenvectors \n",
            "[[-0.08797699 -0.29189921  0.27784886  0.33637135  0.79752505  0.26786864\n",
            "  -0.09438973]\n",
            " [ 0.50695734  0.30996609 -0.70780994  0.07393548  0.33180877  0.1101505\n",
            "  -0.13499526]\n",
            " [ 0.5788351  -0.77736008 -0.00657105 -0.19677589 -0.10338032 -0.10336241\n",
            "  -0.02293518]\n",
            " [ 0.54901653  0.45787675  0.63497294 -0.25170987  0.10388959 -0.01034922\n",
            "  -0.10714981]\n",
            " [ 0.31354922  0.05287224  0.12200054  0.78782241 -0.28404472  0.04036861\n",
            "   0.42547869]\n",
            " [-0.01930249  0.04433104 -0.03622859 -0.05762997  0.37489883 -0.8048393\n",
            "   0.45245222]\n",
            " [ 0.00996933  0.00391698 -0.04873036 -0.39411153  0.10557298  0.50589173\n",
            "   0.75836313]]\n",
            "\n",
            "Eigenvalues \n",
            "[ 1.83017431  0.54823098  0.63363587  0.84548166  1.12659606  0.95598647\n",
            "  1.06036136]\n"
          ]
        }
      ],
      "source": [
        "eig_vals, eig_vecs = np.linalg.eig(cov_mat)\n",
        "\n",
        "print('Eigenvectors \\n%s' %eig_vecs)\n",
        "print('\\nEigenvalues \\n%s' %eig_vals)\n"
      ]
    },
    {
      "cell_type": "code",
      "execution_count": null,
      "metadata": {
        "_cell_guid": "a3831b13-faac-0ed9-1623-845dd1f8ff5a",
        "id": "4Vp1nE3-opPU"
      },
      "outputs": [],
      "source": [
        "# 6) Selecting Principal Components¶"
      ]
    },
    {
      "cell_type": "markdown",
      "metadata": {
        "_cell_guid": "3e301e61-6c3f-34bd-6939-fce77aa98c6f",
        "id": "FtJx6mYuopPV"
      },
      "source": [
        "# 6) Selecting Principal Components\n",
        "\n",
        "T\n",
        "In order to decide which eigenvector(s) can dropped without losing too much information for the construction of lower-dimensional subspace, we need to inspect the corresponding eigenvalues: The eigenvectors with the lowest eigenvalues bear the least information about the distribution of the data; those are the ones can be dropped."
      ]
    },
    {
      "cell_type": "code",
      "execution_count": null,
      "metadata": {
        "_cell_guid": "4a1a33f8-0b32-ba34-6b70-e0906c381c29",
        "id": "FzS0gepFopPV",
        "outputId": "90ca3b1d-8075-47b5-a1a9-52f633b2ea8e"
      },
      "outputs": [
        {
          "name": "stdout",
          "output_type": "stream",
          "text": [
            "Eigenvalues in descending order:\n",
            "1.83017431388\n",
            "1.12659606399\n",
            "1.06036136228\n",
            "0.955986474007\n",
            "0.845481663714\n",
            "0.633635874483\n",
            "0.548230976542\n"
          ]
        }
      ],
      "source": [
        "# Make a list of (eigenvalue, eigenvector) tuples\n",
        "eig_pairs = [(np.abs(eig_vals[i]), eig_vecs[:,i]) for i in range(len(eig_vals))]\n",
        "\n",
        "# Sort the (eigenvalue, eigenvector) tuples from high to low\n",
        "eig_pairs.sort(key=lambda x: x[0], reverse=True)\n",
        "\n",
        "# Visually confirm that the list is correctly sorted by decreasing eigenvalues\n",
        "print('Eigenvalues in descending order:')\n",
        "for i in eig_pairs:\n",
        "    print(i[0])"
      ]
    },
    {
      "cell_type": "markdown",
      "metadata": {
        "_cell_guid": "a673654b-a8f4-5050-c773-e84fb8dc1e9e",
        "id": "CFmGPBGBopPW"
      },
      "source": [
        "**Explained Variance**\n",
        "After sorting the eigenpairs, the next question is \"how many principal components are we going to choose for our new feature subspace?\" A useful measure is the so-called \"explained variance,\" which can be calculated from the eigenvalues. The explained variance tells us how much information (variance) can be attributed to each of the principal components."
      ]
    },
    {
      "cell_type": "code",
      "execution_count": null,
      "metadata": {
        "_cell_guid": "6ecc2703-a0a8-9feb-0026-d37380860b7f",
        "id": "FCNYD82KopPW"
      },
      "outputs": [],
      "source": [
        "tot = sum(eig_vals)\n",
        "var_exp = [(i / tot)*100 for i in sorted(eig_vals, reverse=True)]"
      ]
    },
    {
      "cell_type": "code",
      "execution_count": null,
      "metadata": {
        "_cell_guid": "13ccc0b4-2e08-9394-7a77-ef31c31fd748",
        "id": "C5nuX8iqopPW",
        "outputId": "90161bb0-061e-4991-b541-cd3a1e64c24e"
      },
      "outputs": [
        {
          "data": {
            "image/png": "[encoded data removed]",
            "text/plain": [
              "<matplotlib.figure.Figure at 0x7fa70df71d68>"
            ]
          },
          "metadata": {},
          "output_type": "display_data"
        }
      ],
      "source": [
        "with plt.style.context('dark_background'):\n",
        "    plt.figure(figsize=(6, 4))\n",
        "\n",
        "    plt.bar(range(7), var_exp, alpha=0.5, align='center',\n",
        "            label='individual explained variance')\n",
        "    plt.ylabel('Explained variance ratio')\n",
        "    plt.xlabel('Principal components')\n",
        "    plt.legend(loc='best')\n",
        "    plt.tight_layout()"
      ]
    },
    {
      "cell_type": "markdown",
      "metadata": {
        "_cell_guid": "3020cccc-5ed9-1552-0003-cb51989ea964",
        "id": "k1xmynkCopPX"
      },
      "source": [
        "The plot above clearly shows that maximum variance (somewhere around 26%) can be explained by the first principal component alone. The second,third,fourth and fifth principal component share almost equal amount of information.Comparatively 6th and 7th components share less amount of information as compared to the rest of the Principal components.But those information cannot be ignored since they both contribute almost 17% of the data.But we can drop the last component as it has less than 10% of the variance"
      ]
    },
    {
      "cell_type": "markdown",
      "metadata": {
        "_cell_guid": "490be121-226a-2a21-2dcf-8dab376007dc",
        "id": "gO_9E6MLopPX"
      },
      "source": [
        "**Projection Matrix**"
      ]
    },
    {
      "cell_type": "markdown",
      "metadata": {
        "_cell_guid": "58c8d070-8fd6-74b4-fd8c-b858d17bb93f",
        "id": "IJgcIvVaopPX"
      },
      "source": [
        "The construction of the projection matrix that will be used to transform the Human resouces analytics data onto the new feature subspace. **Suppose only 1st and 2nd principal component shares the maximum amount of information say around 90%**.Hence we can drop other components. Here, we are reducing the 7-dimensional feature space to a 2-dimensional feature subspace, by choosing the “top 2” eigenvectors with the highest eigenvalues to construct our d×k-dimensional eigenvector matrix W\n"
      ]
    },
    {
      "cell_type": "code",
      "execution_count": null,
      "metadata": {
        "_cell_guid": "bf556dc8-b89a-9f3b-5ec8-1206cc42fdb4",
        "id": "ZH1JtXvjopPX",
        "outputId": "e3c02e49-30fa-420b-89a0-8bac342291e8"
      },
      "outputs": [
        {
          "name": "stdout",
          "output_type": "stream",
          "text": [
            "Matrix W:\n",
            " [[-0.08797699  0.79752505]\n",
            " [ 0.50695734  0.33180877]\n",
            " [ 0.5788351  -0.10338032]\n",
            " [ 0.54901653  0.10388959]\n",
            " [ 0.31354922 -0.28404472]\n",
            " [-0.01930249  0.37489883]\n",
            " [ 0.00996933  0.10557298]]\n"
          ]
        }
      ],
      "source": [
        "matrix_w = np.hstack((eig_pairs[0][1].reshape(7,1), \n",
        "                      eig_pairs[1][1].reshape(7,1)\n",
        "                    ))\n",
        "print('Matrix W:\\n', matrix_w)"
      ]
    },
    {
      "cell_type": "markdown",
      "metadata": {
        "_cell_guid": "fe78ecb6-61ba-3ce7-2407-f6ad6ca022ba",
        "id": "I8g6GTXkopPY"
      },
      "source": [
        "**Projection Onto the New Feature Space**\n",
        "In this last step we will use the 7×2-dimensional projection matrix W to transform our samples onto the new subspace via the equation\n",
        "**Y=X×W**"
      ]
    },
    {
      "cell_type": "code",
      "execution_count": null,
      "metadata": {
        "_cell_guid": "55040b4e-b6f2-fe75-54e8-cf2e5c2961b5",
        "id": "MYwR2xNHopPY",
        "outputId": "e5070d3d-0b98-4c62-a4f9-5e22b3614fc7"
      },
      "outputs": [
        {
          "data": {
            "text/plain": [
              "array([[-1.90035018, -1.12083103],\n",
              "       [ 2.1358322 ,  0.2493369 ],\n",
              "       [ 3.05891625, -1.68312693],\n",
              "       ..., \n",
              "       [-2.0507165 , -1.182032  ],\n",
              "       [ 2.91418496, -1.42752606],\n",
              "       [-1.91543672, -1.17021407]])"
            ]
          },
          "execution_count": 35,
          "metadata": {},
          "output_type": "execute_result"
        }
      ],
      "source": [
        "Y = X_std.dot(matrix_w)\n",
        "Y"
      ]
    },
    {
      "cell_type": "markdown",
      "metadata": {
        "_cell_guid": "73d741cc-2761-4fd3-8f04-830385ee7e1a",
        "id": "7xwzmriTopPY"
      },
      "source": [
        "# PCA in scikit-learn"
      ]
    },
    {
      "cell_type": "code",
      "execution_count": null,
      "metadata": {
        "_cell_guid": "2032535a-7c1e-a5b7-9135-80e19c3c8490",
        "id": "prDC8HKVopPZ",
        "outputId": "0828e13c-cc24-4b2d-b164-6c5711291a42"
      },
      "outputs": [
        {
          "data": {
            "text/plain": [
              "<matplotlib.text.Text at 0x7fa70c0ac2b0>"
            ]
          },
          "execution_count": 36,
          "metadata": {},
          "output_type": "execute_result"
        },
        {
          "data": {
            "image/png": "[encoded data removed]",
            "text/plain": [
              "<matplotlib.figure.Figure at 0x7fa70e9a6f28>"
            ]
          },
          "metadata": {},
          "output_type": "display_data"
        }
      ],
      "source": [
        "from sklearn.decomposition import PCA\n",
        "pca = PCA().fit(X_std)\n",
        "plt.plot(np.cumsum(pca.explained_variance_ratio_))\n",
        "plt.xlim(0,7,1)\n",
        "plt.xlabel('Number of components')\n",
        "plt.ylabel('Cumulative explained variance')"
      ]
    },
    {
      "cell_type": "markdown",
      "metadata": {
        "_cell_guid": "fd485349-31dc-fbca-ee6b-ec445cf50349",
        "id": "PdqOMRxhopPZ"
      },
      "source": [
        "The above plot shows almost 90% variance by the first 6 components. Therfore we can drop 7th component."
      ]
    },
    {
      "cell_type": "code",
      "execution_count": null,
      "metadata": {
        "_cell_guid": "2b886668-1151-740e-f895-acda6d54bbf0",
        "id": "h4JT4rPfopPZ"
      },
      "outputs": [],
      "source": [
        "from sklearn.decomposition import PCA \n",
        "sklearn_pca = PCA(n_components=6)\n",
        "Y_sklearn = sklearn_pca.fit_transform(X_std)"
      ]
    },
    {
      "cell_type": "code",
      "execution_count": null,
      "metadata": {
        "_cell_guid": "9ac6a338-34a3-0b59-ccde-e6522ffa59e7",
        "id": "Uc4IipLjopPZ",
        "outputId": "5bcc596e-c782-4a98-d631-a5bb52fb70be"
      },
      "outputs": [
        {
          "name": "stdout",
          "output_type": "stream",
          "text": [
            "[[-1.90035018 -1.12083103 -0.0797787   0.03228437 -0.07256447  0.06063013]\n",
            " [ 2.1358322   0.2493369   0.0936161   0.50676925  1.2487747  -0.61378158]\n",
            " [ 3.05891625 -1.68312693 -0.301682   -0.4488635  -1.12495888  0.29066929]\n",
            " ..., \n",
            " [-2.0507165  -1.182032   -0.04594506  0.02441143 -0.01553247  0.24980658]\n",
            " [ 2.91418496 -1.42752606 -0.36333357 -0.31517759 -0.97107375  0.51444624]\n",
            " [-1.91543672 -1.17021407 -0.07024077  0.01486762 -0.09545357  0.01773844]]\n"
          ]
        }
      ],
      "source": [
        "print(Y_sklearn)"
      ]
    },
    {
      "cell_type": "code",
      "execution_count": null,
      "metadata": {
        "_cell_guid": "6d8f47c5-df6d-748e-f6c0-016200f3fde6",
        "id": "_WkCFiT9opPa",
        "outputId": "fcc36962-c8c4-4579-afca-c15f3f9d0392"
      },
      "outputs": [
        {
          "data": {
            "text/plain": [
              "(14999, 6)"
            ]
          },
          "execution_count": 39,
          "metadata": {},
          "output_type": "execute_result"
        }
      ],
      "source": [
        "Y_sklearn.shape"
      ]
    },
    {
      "cell_type": "markdown",
      "metadata": {
        "_cell_guid": "89181b37-5097-e4ec-5237-610b2c47df04",
        "id": "-4mkAmjyopPa"
      },
      "source": [
        "Thus Principal Component Analysis is used to remove the redundant features from the datasets without losing much information.These features are low dimensional in nature.The first component has the highest variance followed by second, third and so on.PCA works best on data set having 3 or higher dimensions. Because, with higher dimensions, it becomes increasingly difficult to make interpretations from the resultant cloud of data."
      ]
    },
    {
      "cell_type": "markdown",
      "metadata": {
        "_cell_guid": "1803ba6f-303d-791d-4d81-323624a87f56",
        "id": "emKrCFK3opPa"
      },
      "source": [
        "You can find my notebook on Github: \n",
        "(\"https://github.com/nirajvermafcb/Data-Science-with-python\")"
      ]
    },
    {
      "cell_type": "markdown",
      "metadata": {
        "_cell_guid": "5be4384a-7546-b0ad-2542-f87c27309018",
        "id": "tlDHThjCopPa"
      },
      "source": [
        "Here is my notebook for Principal Component Analysis with Scikit-learn:\n",
        "(https://www.kaggle.com/nirajvermafcb/d/nsrose7224/crowdedness-at-the-campus-gym/principal-component-analysis-with-scikit-learn)"
      ]
    }
  ],
  "metadata": {
    "_change_revision": 193,
    "_is_fork": false,
    "kernelspec": {
      "display_name": "Python 3",
      "language": "python",
      "name": "python3"
    },
    "language_info": {
      "codemirror_mode": {
        "name": "ipython",
        "version": 3
      },
      "file_extension": ".py",
      "mimetype": "text/x-python",
      "name": "python",
      "nbconvert_exporter": "python",
      "pygments_lexer": "ipython3",
      "version": "3.5.2"
    },
    "colab": {
      "name": "20BCE529_PRAC6_PCA.ipynb",
      "provenance": []
    }
  },
  "nbformat": 4,
  "nbformat_minor": 0
}