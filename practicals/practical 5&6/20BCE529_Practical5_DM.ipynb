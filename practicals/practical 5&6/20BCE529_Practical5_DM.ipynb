{
  "nbformat": 4,
  "nbformat_minor": 0,
  "metadata": {
    "colab": {
      "name": "20BCE529_Practical5_DM.ipynb",
      "provenance": [],
      "collapsed_sections": []
    },
    "kernelspec": {
      "name": "python3",
      "display_name": "Python 3"
    },
    "language_info": {
      "name": "python"
    }
  },
  "cells": [
    {
      "cell_type": "markdown",
      "source": [
        "**Name : Naman Thaker**<br>\n",
        "**Roll No : 20BCE529**<br>\n",
        "**Subject : Data Mining**"
      ],
      "metadata": {
        "id": "tqPQXU4qwMhc"
      }
    },
    {
      "cell_type": "markdown",
      "source": [
        "Problem Statement :\n",
        "Implement the Natural partitioning (apply 3-4-5 rule)\n",
        "algorithm for generating concept hierarchy (up to two levels)\n",
        "for the any data set values for example, student dataset\n",
        "(attribute ‘marks’) - 32, 38, 48, 91, 46, 37, 22, 69, 78, 82, 33,\n",
        "49, 55, 66, 84, 86, 67, 80, 79, 44."
      ],
      "metadata": {
        "id": "xfRZqaezwJBv"
      }
    },
    {
      "cell_type": "code",
      "execution_count": null,
      "metadata": {
        "id": "TbfK4Xrlgqsb"
      },
      "outputs": [],
      "source": [
        "import numpy as np\n",
        "import pandas as pd\n",
        "import matplotlib.pyplot as plt\n",
        "from math import log10, floor, ceil"
      ]
    },
    {
      "cell_type": "code",
      "source": [
        "def Range(sAr):\n",
        "  return sAr[-1] - sAr[0]"
      ],
      "metadata": {
        "id": "mloIb6FTi49T"
      },
      "execution_count": null,
      "outputs": []
    },
    {
      "cell_type": "code",
      "source": [
        "def findNumParts(sAr):\n",
        "  range_d = Range(sAr)\n",
        "  no_of_partitions = 0\n",
        "  msd = floor(range_d / (10**floor(log10(range_d))))\n",
        "  if msd in [3,6,7,9]:\n",
        "    no_of_partitions = 3\n",
        "  elif msd in [2,4,8]:\n",
        "    no_of_partitions = 4\n",
        "  elif msd in [1,5,10]:\n",
        "    no_of_partitions = 5\n",
        "  print('Range:',range_d)\n",
        "  print(\"Most Significant digit:\",msd)\n",
        "  print('No of partitions:',no_of_partitions)\n",
        "  return [range_d,no_of_partitions]\n"
      ],
      "metadata": {
        "id": "GXHqAYwsi87z"
      },
      "execution_count": null,
      "outputs": []
    },
    {
      "cell_type": "code",
      "source": [
        "def makePartitions(sAr):\n",
        "  parts = []\n",
        "  data_range,no_of_partitions = findNumParts(sAr)\n",
        "  print(*np.array_split(sAr,no_of_partitions))\n",
        "  num_elements = ceil(len(sAr)/no_of_partitions)\n",
        "  fulls = int(len(sAr)/num_elements)\n",
        "  for i in range(0,fulls):\n",
        "    parts.append(sAr[i*num_elements:(i+1)*num_elements])\n",
        "  if len(sAr[(i+1)*num_elements:]) != 0:\n",
        "    parts.append(sAr[(i+1)*num_elements:])\n",
        "  return parts"
      ],
      "metadata": {
        "id": "qjDB_oLPjhV6"
      },
      "execution_count": null,
      "outputs": []
    },
    {
      "cell_type": "code",
      "source": [
        "def printing(parts):\n",
        "  print(\"Output partitions:\")\n",
        "  for li in parts:\n",
        "    print(li)\n",
        "  print('\\n')"
      ],
      "metadata": {
        "id": "UwLDoA5Yjp3l"
      },
      "execution_count": null,
      "outputs": []
    },
    {
      "cell_type": "code",
      "source": [
        "def intial(ar):\n",
        "  ar.sort()\n",
        "  print(\"sorted values:\",ar)\n",
        "  subans = makePartitions(ar)\n",
        "  print(\"Answer after level 1 partioning\")\n",
        "  printing(subans)\n",
        "  print(\"\\n\\nAnswer after level 2 partioning\")\n",
        "  for part in subans:\n",
        "    sub_parts = makePartitions(part)\n",
        "    printing(sub_parts)\n"
      ],
      "metadata": {
        "id": "MeBNT8H4jyEr"
      },
      "execution_count": null,
      "outputs": []
    },
    {
      "cell_type": "code",
      "source": [
        "marks = [32, 38, 48, 91, 46, 37, 22, 69, 78, 82, 33, 49, 55, 66, 84, 86, 67, 80, 79, 44]\n",
        "intial(marks)\n"
      ],
      "metadata": {
        "colab": {
          "base_uri": "https://localhost:8080/"
        },
        "id": "bWp38Z4pkAw2",
        "outputId": "76cea05e-af4d-489e-8704-1b2207d99703"
      },
      "execution_count": null,
      "outputs": [
        {
          "output_type": "stream",
          "name": "stdout",
          "text": [
            "sorted values: [22, 32, 33, 37, 38, 44, 46, 48, 49, 55, 66, 67, 69, 78, 79, 80, 82, 84, 86, 91]\n",
            "Range: 69\n",
            "Most Significant digit: 6\n",
            "No of partitions: 3\n",
            "[22 32 33 37 38 44 46] [48 49 55 66 67 69 78] [79 80 82 84 86 91]\n",
            "Answer after level 1 partioning\n",
            "Output partitions:\n",
            "[22, 32, 33, 37, 38, 44, 46]\n",
            "[48, 49, 55, 66, 67, 69, 78]\n",
            "[79, 80, 82, 84, 86, 91]\n",
            "\n",
            "\n",
            "\n",
            "\n",
            "Answer after level 2 partioning\n",
            "Range: 24\n",
            "Most Significant digit: 2\n",
            "No of partitions: 4\n",
            "[22 32] [33 37] [38 44] [46]\n",
            "Output partitions:\n",
            "[22, 32]\n",
            "[33, 37]\n",
            "[38, 44]\n",
            "[46]\n",
            "\n",
            "\n",
            "Range: 30\n",
            "Most Significant digit: 3\n",
            "No of partitions: 3\n",
            "[48 49 55] [66 67] [69 78]\n",
            "Output partitions:\n",
            "[48, 49, 55]\n",
            "[66, 67, 69]\n",
            "[78]\n",
            "\n",
            "\n",
            "Range: 12\n",
            "Most Significant digit: 1\n",
            "No of partitions: 5\n",
            "[79 80] [82] [84] [86] [91]\n",
            "Output partitions:\n",
            "[79, 80]\n",
            "[82, 84]\n",
            "[86, 91]\n",
            "\n",
            "\n"
          ]
        }
      ]
    },
    {
      "cell_type": "code",
      "source": [
        ""
      ],
      "metadata": {
        "id": "4_T62oEikGDS"
      },
      "execution_count": null,
      "outputs": []
    }
  ]
}