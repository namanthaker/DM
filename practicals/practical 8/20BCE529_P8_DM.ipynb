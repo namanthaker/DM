{
  "cells": [
    {
      "cell_type": "markdown",
      "source": [
        "NAME : NAMAN THAKER\n",
        "\n",
        "20BCE529\n",
        "\n",
        "PRACTICAL 8 : DBSCAN"
      ],
      "metadata": {
        "id": "7hzICkn5EEYE"
      }
    },
    {
      "cell_type": "code",
      "execution_count": null,
      "metadata": {
        "id": "fRV-GIVaD72Q",
        "outputId": "7c26a800-7f3e-48e2-e575-1d3078b29eba"
      },
      "outputs": [
        {
          "data": {
            "text/plain": [
              "[[0, 0],\n",
              " [1, 0],\n",
              " [1, 1],\n",
              " [9, 3],\n",
              " [3, 1],\n",
              " [3, 0],\n",
              " [0, 1],\n",
              " [3, 2],\n",
              " [6, 3],\n",
              " [8, 3],\n",
              " [7, 4]]"
            ]
          },
          "execution_count": 44,
          "metadata": {},
          "output_type": "execute_result"
        }
      ],
      "source": [
        "import pandas as pd\n",
        "from sklearn.preprocessing import StandardScaler\n",
        "import numpy as np\n",
        "\n",
        "cluster_point = [[0,0],[1,0],[1,1],[9,3],[3,1],[3,0],[0,1],[3,2],[6,3],[8,3],[7,4]]\n",
        "cluster_point"
      ]
    },
    {
      "cell_type": "code",
      "execution_count": null,
      "metadata": {
        "id": "LO3I6MRFD72V"
      },
      "outputs": [],
      "source": [
        "X = StandardScaler().fit_transform(cluster_point)\n",
        "eps=1\n",
        "MinPts=2"
      ]
    },
    {
      "cell_type": "code",
      "execution_count": null,
      "metadata": {
        "id": "QtPeoPueD72W"
      },
      "outputs": [],
      "source": [
        "def dbscan(D, eps, MinPts):\n",
        "    labels = [0]*len(D)\n",
        "    C = 0\n",
        "\n",
        "    for P in range(0, len(D)):\n",
        "        if not (labels[P] == 0):\n",
        "            continue\n",
        "        \n",
        "        NeighborPts = region_query(D, P, eps) # find neighboring point of P\n",
        "        \n",
        "        # If the number is below MinPts, this point is noise. \n",
        "        if len(NeighborPts) < MinPts:\n",
        "            labels[P] = -1\n",
        "        else: \n",
        "            # Otherwise, if there are at least MinPts nearby, use this point as the seed for a new cluster.  \n",
        "            C += 1\n",
        "            grow_cluster(D, labels, P, NeighborPts, C, eps, MinPts)\n",
        "    \n",
        "    return labels"
      ]
    },
    {
      "cell_type": "code",
      "execution_count": null,
      "metadata": {
        "id": "Fbc_8ZYsD72X"
      },
      "outputs": [],
      "source": [
        "def grow_cluster(D, labels, P, NeighborPts, C, eps, MinPts):\n",
        "    labels[P] = C\n",
        "    i = 0\n",
        "    while i < len(NeighborPts):            \n",
        "        # Get the next point from the queue.        \n",
        "        Pn = NeighborPts[i]\n",
        "\n",
        "        if labels[Pn] == -1:\n",
        "            labels[Pn] = C\n",
        "\n",
        "        elif labels[Pn] == 0:\n",
        "            # Add Pn to cluster C (Assign cluster label C).\n",
        "            labels[Pn] = C\n",
        "\n",
        "            PnNeighborPts = region_query(D, Pn, eps)\n",
        "\n",
        "            # If Pn has at least MinPts neighbors, it's a branch point! Add all of its neighbors to the FIFO queue to be searched. \n",
        "            if len(PnNeighborPts) >= MinPts:\n",
        "                NeighborPts = NeighborPts + PnNeighborPts\n",
        "\n",
        "        i += 1  "
      ]
    },
    {
      "cell_type": "code",
      "execution_count": null,
      "metadata": {
        "id": "n7K7cZ31D72Y"
      },
      "outputs": [],
      "source": [
        "def region_query(D, P, eps):\n",
        "\n",
        "    neighbors = []\n",
        "    \n",
        "    # For each point in the dataset...\n",
        "    for Pn in range(0, len(D)):\n",
        "        \n",
        "        # If the distance is below the threshold, add it to the neighbors list.\n",
        "        if np.linalg.norm(D[P] - D[Pn]) < eps:\n",
        "            neighbors.append(Pn)\n",
        "            \n",
        "    return neighbors"
      ]
    },
    {
      "cell_type": "code",
      "execution_count": null,
      "metadata": {
        "id": "ysz7OgecD72Y"
      },
      "outputs": [],
      "source": [
        "my_labels = dbscan(X, eps, MinPts)"
      ]
    },
    {
      "cell_type": "code",
      "execution_count": null,
      "metadata": {
        "id": "Z-_k0m5nD72Z",
        "outputId": "42164a35-1be4-4195-cfbd-3b16b3052eb3"
      },
      "outputs": [
        {
          "data": {
            "text/plain": [
              "[1, 1, 1, 2, 1, 1, 1, 1, 2, 2, 2]"
            ]
          },
          "execution_count": 51,
          "metadata": {},
          "output_type": "execute_result"
        }
      ],
      "source": [
        "my_labels"
      ]
    }
  ],
  "metadata": {
    "interpreter": {
      "hash": "b8730baca6a388187048c7ee8bde8e8360b8c3b90750a4c2acac211cc931df8f"
    },
    "kernelspec": {
      "display_name": "Python 3.9.6 64-bit",
      "language": "python",
      "name": "python3"
    },
    "language_info": {
      "codemirror_mode": {
        "name": "ipython",
        "version": 3
      },
      "file_extension": ".py",
      "mimetype": "text/x-python",
      "name": "python",
      "nbconvert_exporter": "python",
      "pygments_lexer": "ipython3",
      "version": "3.9.6"
    },
    "orig_nbformat": 4,
    "colab": {
      "name": "20BCE529_P8_DM.ipynb",
      "provenance": []
    }
  },
  "nbformat": 4,
  "nbformat_minor": 0
}