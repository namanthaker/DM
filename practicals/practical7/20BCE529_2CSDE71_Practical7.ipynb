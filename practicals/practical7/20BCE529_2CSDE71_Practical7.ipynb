{
  "cells": [
    {
      "cell_type": "markdown",
      "metadata": {
        "id": "MhMeBrSttoSc"
      },
      "source": [
        "20BCE529\n",
        "\n",
        "Naman Thaker\n",
        "\n",
        "PRACTICAL 7\n",
        "\n",
        "Data Mining\n",
        "\n",
        "Aim : Identify the frequent patterns and generate strong association rule from the frequent pattern for the following data set(using Apriori or FP growth algorithm). Keep minimum 40% support and 40% confidence."
      ]
    },
    {
      "cell_type": "markdown",
      "metadata": {
        "id": "m6isEV81toSl"
      },
      "source": [
        "# APRIORI ALGORITHM"
      ]
    },
    {
      "cell_type": "markdown",
      "metadata": {
        "id": "jKreXIpntoSm"
      },
      "source": [
        "<h2>1.  Inputting the dataset</h2> \n",
        "->  This code snippet will give the output as a list of given different items"
      ]
    },
    {
      "cell_type": "code",
      "execution_count": null,
      "metadata": {
        "colab": {
          "base_uri": "https://localhost:8080/"
        },
        "id": "dxIG8sTXtoSn",
        "outputId": "ceff88c6-9706-41ff-c58b-b293b5d3ad9c"
      },
      "outputs": [
        {
          "output_type": "stream",
          "name": "stdout",
          "text": [
            "['Beer', 'Coffee', 'Diaper', 'Eggs', 'Milk', 'Nuts']\n"
          ]
        }
      ],
      "source": [
        "data = [\n",
        "        ['10', ['Beer', 'Nuts', 'Diaper']],\n",
        "        ['20', ['Beer', 'Coffee', 'Diaper']],\n",
        "        ['30', ['Beer', 'Diaper', 'Eggs']],\n",
        "        ['40', ['Nuts', 'Eggs', 'Milk']],\n",
        "        ['50', ['Nuts', 'Coffee', 'Diaper', 'Eggs', 'Milk']],\n",
        "        ]\n",
        "\n",
        "init = []\n",
        "for i in data:\n",
        "    for q in i[1]:\n",
        "        if(q not in init):\n",
        "            init.append(q)\n",
        "init = sorted(init)\n",
        "print(init)"
      ]
    },
    {
      "cell_type": "markdown",
      "metadata": {
        "id": "gSSiqeWTtoSr"
      },
      "source": [
        "<h2>2.  Support Count</h2>\n",
        "->  Here, we chose a support to be 50% "
      ]
    },
    {
      "cell_type": "code",
      "execution_count": null,
      "metadata": {
        "colab": {
          "base_uri": "https://localhost:8080/"
        },
        "id": "NVzU6oCttoSr",
        "outputId": "11c73c9f-f23c-43d7-e85e-5904642ff98e"
      },
      "outputs": [
        {
          "output_type": "execute_result",
          "data": {
            "text/plain": [
              "2"
            ]
          },
          "metadata": {},
          "execution_count": 5
        }
      ],
      "source": [
        "sp = 0.4 # 0.5\n",
        "s = int(sp*len(init))\n",
        "s"
      ]
    },
    {
      "cell_type": "markdown",
      "metadata": {
        "id": "0rWwI3lqtoSt"
      },
      "source": [
        "<h2>3.  Algorithm</h2>\n",
        "->  Apriori Algorithm will be applied and the k-frequent itemsets are prnted as the output"
      ]
    },
    {
      "cell_type": "code",
      "execution_count": null,
      "metadata": {
        "colab": {
          "base_uri": "https://localhost:8080/"
        },
        "id": "TjXAMJ32toSu",
        "outputId": "4dc75a0e-09b9-43ed-bf15-5cb7983553b5"
      },
      "outputs": [
        {
          "output_type": "stream",
          "name": "stdout",
          "text": [
            "C1:\n",
            "['Beer']: 3\n",
            "['Coffee']: 2\n",
            "['Diaper']: 4\n",
            "['Eggs']: 3\n",
            "['Milk']: 2\n",
            "['Nuts']: 3\n",
            "\n",
            "L1:\n",
            "['Beer']: 3\n",
            "['Coffee']: 2\n",
            "['Diaper']: 4\n",
            "['Eggs']: 3\n",
            "['Milk']: 2\n",
            "['Nuts']: 3\n",
            "\n",
            "C2:\n",
            "['Diaper', 'Coffee']: 2\n",
            "['Milk', 'Beer']: 0\n",
            "['Eggs', 'Coffee']: 1\n",
            "['Beer', 'Eggs']: 1\n",
            "['Milk', 'Coffee']: 1\n",
            "['Beer', 'Nuts']: 1\n",
            "['Nuts', 'Coffee']: 1\n",
            "['Milk', 'Nuts']: 2\n",
            "['Beer', 'Coffee']: 1\n",
            "['Milk', 'Diaper']: 1\n",
            "['Milk', 'Eggs']: 2\n",
            "['Nuts', 'Eggs']: 2\n",
            "['Eggs', 'Diaper']: 2\n",
            "['Nuts', 'Diaper']: 2\n",
            "['Beer', 'Diaper']: 3\n",
            "\n",
            "L2:\n",
            "['Diaper', 'Coffee']: 2\n",
            "['Milk', 'Nuts']: 2\n",
            "['Milk', 'Eggs']: 2\n",
            "['Nuts', 'Eggs']: 2\n",
            "['Eggs', 'Diaper']: 2\n",
            "['Nuts', 'Diaper']: 2\n",
            "['Beer', 'Diaper']: 3\n",
            "\n",
            "C3:\n",
            "['Eggs', 'Diaper', 'Coffee']: 1\n",
            "['Beer', 'Nuts', 'Diaper']: 1\n",
            "['Beer', 'Eggs', 'Diaper']: 1\n",
            "['Nuts', 'Diaper', 'Coffee']: 1\n",
            "['Beer', 'Diaper', 'Coffee']: 1\n",
            "['Milk', 'Eggs', 'Diaper']: 1\n",
            "['Milk', 'Nuts', 'Diaper']: 1\n",
            "['Nuts', 'Eggs', 'Diaper']: 1\n",
            "['Milk', 'Nuts', 'Eggs']: 2\n",
            "\n",
            "L3:\n",
            "['Milk', 'Nuts', 'Eggs']: 2\n",
            "\n",
            "C4:\n",
            "\n",
            "L4:\n",
            "\n",
            "Result: \n",
            "L3:\n",
            "['Milk', 'Nuts', 'Eggs']: 2\n",
            "\n"
          ]
        }
      ],
      "source": [
        "from collections import Counter\n",
        "c = Counter()\n",
        "for i in init:\n",
        "    for d in data:\n",
        "        if(i in d[1]):\n",
        "            c[i]+=1\n",
        "print(\"C1:\")\n",
        "for i in c:\n",
        "    print(str([i])+\": \"+str(c[i]))\n",
        "print()\n",
        "l = Counter()\n",
        "for i in c:\n",
        "    if(c[i] >= s):\n",
        "        l[frozenset([i])]+=c[i]\n",
        "print(\"L1:\")\n",
        "for i in l:\n",
        "    print(str(list(i))+\": \"+str(l[i]))\n",
        "print()\n",
        "pl = l\n",
        "pos = 1\n",
        "for count in range (2,1000):\n",
        "    nc = set()\n",
        "    temp = list(l)\n",
        "    for i in range(0,len(temp)):\n",
        "        for j in range(i+1,len(temp)):\n",
        "            t = temp[i].union(temp[j])\n",
        "            if(len(t) == count):\n",
        "                nc.add(temp[i].union(temp[j]))\n",
        "    nc = list(nc)\n",
        "    c = Counter()\n",
        "    for i in nc:\n",
        "        c[i] = 0\n",
        "        for q in data:\n",
        "            temp = set(q[1])\n",
        "            if(i.issubset(temp)):\n",
        "                c[i]+=1\n",
        "    print(\"C\"+str(count)+\":\")\n",
        "    for i in c:\n",
        "        print(str(list(i))+\": \"+str(c[i]))\n",
        "    print()\n",
        "    l = Counter()\n",
        "    for i in c:\n",
        "        if(c[i] >= s):\n",
        "            l[i]+=c[i]\n",
        "    print(\"L\"+str(count)+\":\")\n",
        "    for i in l:\n",
        "        print(str(list(i))+\": \"+str(l[i]))\n",
        "    print()\n",
        "    if(len(l) == 0):\n",
        "        break\n",
        "    pl = l\n",
        "    pos = count\n",
        "print(\"Result: \")\n",
        "print(\"L\"+str(pos)+\":\")\n",
        "for i in pl:\n",
        "    print(str(list(i))+\": \"+str(pl[i]))\n",
        "print()"
      ]
    },
    {
      "cell_type": "markdown",
      "metadata": {
        "id": "rt4QNaVytoSw"
      },
      "source": [
        "<h2>4.  Finding the Association Rules </h2> "
      ]
    },
    {
      "cell_type": "code",
      "execution_count": null,
      "metadata": {
        "colab": {
          "base_uri": "https://localhost:8080/"
        },
        "id": "ZyLHAkxrtoSx",
        "outputId": "7ad7e2a2-21b6-4d2b-ce86-9eda2af2dafc"
      },
      "outputs": [
        {
          "output_type": "stream",
          "name": "stdout",
          "text": [
            "['Milk', 'Nuts'] -> ['Eggs'] = 100.0%\n",
            "['Eggs'] -> ['Milk', 'Nuts'] = 66.66666666666666%\n",
            "['Milk', 'Eggs'] -> ['Nuts'] = 100.0%\n",
            "['Nuts'] -> ['Milk', 'Eggs'] = 66.66666666666666%\n",
            "['Nuts', 'Eggs'] -> ['Milk'] = 100.0%\n",
            "['Milk'] -> ['Nuts', 'Eggs'] = 100.0%\n",
            "choosing: 1 3 5 6 \n",
            "\n"
          ]
        }
      ],
      "source": [
        "from itertools import combinations\n",
        "for l in pl:\n",
        "    c = [frozenset(q) for q in combinations(l,len(l)-1)]\n",
        "    mmax = 0\n",
        "    for a in c:\n",
        "        b = l-a\n",
        "        ab = l\n",
        "        sab = 0\n",
        "        sa = 0\n",
        "        sb = 0\n",
        "        for q in data:\n",
        "            temp = set(q[1])\n",
        "            if(a.issubset(temp)):\n",
        "                sa+=1\n",
        "            if(b.issubset(temp)):\n",
        "                sb+=1\n",
        "            if(ab.issubset(temp)):\n",
        "                sab+=1\n",
        "        temp = sab/sa*100\n",
        "        if(temp > mmax):\n",
        "            mmax = temp\n",
        "        temp = sab/sb*100\n",
        "        if(temp > mmax):\n",
        "            mmax = temp\n",
        "        print(str(list(a))+\" -> \"+str(list(b))+\" = \"+str(sab/sa*100)+\"%\")\n",
        "        print(str(list(b))+\" -> \"+str(list(a))+\" = \"+str(sab/sb*100)+\"%\")\n",
        "    curr = 1\n",
        "    print(\"choosing:\", end=' ')\n",
        "    for a in c:\n",
        "        b = l-a\n",
        "        ab = l\n",
        "        sab = 0\n",
        "        sa = 0\n",
        "        sb = 0\n",
        "        for q in data:\n",
        "            temp = set(q[1])\n",
        "            if(a.issubset(temp)):\n",
        "                sa+=1\n",
        "            if(b.issubset(temp)):\n",
        "                sb+=1\n",
        "            if(ab.issubset(temp)):\n",
        "                sab+=1\n",
        "        temp = sab/sa*100\n",
        "        if(temp == mmax):\n",
        "            print(curr, end = ' ')\n",
        "        curr += 1\n",
        "        temp = sab/sb*100\n",
        "        if(temp == mmax):\n",
        "            print(curr, end = ' ')\n",
        "        curr += 1\n",
        "    print()\n",
        "    print()"
      ]
    }
  ],
  "metadata": {
    "_change_revision": 193,
    "_is_fork": false,
    "colab": {
      "name": "20BCE529_2CSDE71_Practical7.ipynb",
      "provenance": []
    },
    "kernelspec": {
      "display_name": "Python 3",
      "language": "python",
      "name": "python3"
    },
    "language_info": {
      "codemirror_mode": {
        "name": "ipython",
        "version": 3
      },
      "file_extension": ".py",
      "mimetype": "text/x-python",
      "name": "python",
      "nbconvert_exporter": "python",
      "pygments_lexer": "ipython3",
      "version": "3.9.4"
    }
  },
  "nbformat": 4,
  "nbformat_minor": 0
}